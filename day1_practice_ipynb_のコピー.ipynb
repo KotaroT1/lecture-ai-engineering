{
  "cells": [
    {
      "cell_type": "markdown",
      "metadata": {
        "id": "view-in-github",
        "colab_type": "text"
      },
      "source": [
        "<a href=\"https://colab.research.google.com/github/KotaroT1/lecture-ai-engineering/blob/master/day1_practice_ipynb_%E3%81%AE%E3%82%B3%E3%83%94%E3%83%BC.ipynb\" target=\"_parent\"><img src=\"https://colab.research.google.com/assets/colab-badge.svg\" alt=\"Open In Colab\"/></a>"
      ]
    },
    {
      "cell_type": "markdown",
      "metadata": {
        "id": "gSpnWBP5ELSI"
      },
      "source": [
        "# 実践演習 Day 1：streamlitとFastAPIのデモ\n",
        "このノートブックでは以下の内容を学習します。\n",
        "\n",
        "- 必要なライブラリのインストールと環境設定\n",
        "- Hugging Faceからモデルを用いたStreamlitのデモアプリ\n",
        "- FastAPIとngrokを使用したAPIの公開方法\n",
        "\n",
        "演習を始める前に、HuggingFaceとngrokのアカウントを作成し、\n",
        "それぞれのAPIトークンを取得する必要があります。\n",
        "\n",
        "\n",
        "演習の時間では、以下の3つのディレクトリを順に説明します。\n",
        "\n",
        "1. 01_streamlit_UI\n",
        "2. 02_streamlit_app\n",
        "3. 03_FastAPI\n",
        "\n",
        "2つ目や3つ目からでも始められる様にノートブックを作成しています。\n",
        "\n",
        "復習の際にもこのノートブックを役立てていただければと思います。\n",
        "\n",
        "### 注意事項\n",
        "「02_streamlit_app」と「03_FastAPI」では、GPUを使用します。\n",
        "\n",
        "これらを実行する際は、Google Colab画面上のメニューから「編集」→ 「ノートブックの設定」\n",
        "\n",
        "「ハードウェアアクセラレーター」の項目の中から、「T4 GPU」を選択してください。\n",
        "\n",
        "このノートブックのデフォルトは「CPU」になっています。\n",
        "\n",
        "---"
      ]
    },
    {
      "cell_type": "markdown",
      "metadata": {
        "id": "OhtHkJOgELSL"
      },
      "source": [
        "# 環境変数の設定（1~3共有）\n"
      ]
    },
    {
      "cell_type": "markdown",
      "metadata": {
        "id": "Y-FjBp4MMQHM"
      },
      "source": [
        "GitHubから演習用のコードをCloneします。"
      ]
    },
    {
      "cell_type": "code",
      "execution_count": 1,
      "metadata": {
        "id": "AIXMavdDEP8U",
        "colab": {
          "base_uri": "https://localhost:8080/"
        },
        "outputId": "def0ebe7-18fc-4438-87f0-b8376769faab"
      },
      "outputs": [
        {
          "output_type": "stream",
          "name": "stdout",
          "text": [
            "Cloning into 'lecture-ai-engineering'...\n",
            "remote: Enumerating objects: 51, done.\u001b[K\n",
            "remote: Total 51 (delta 0), reused 0 (delta 0), pack-reused 51 (from 1)\u001b[K\n",
            "Receiving objects: 100% (51/51), 39.12 KiB | 690.00 KiB/s, done.\n",
            "Resolving deltas: 100% (11/11), done.\n"
          ]
        }
      ],
      "source": [
        "!git clone https://github.com/KotaroT1/lecture-ai-engineering.git"
      ]
    },
    {
      "cell_type": "markdown",
      "metadata": {
        "id": "XC8n7yZ_vs1K"
      },
      "source": [
        "必要なAPIトークンを.envに設定します。\n",
        "\n",
        "「lecture-ai-engineering/day1」の配下に、「.env_template」ファイルが存在しています。\n",
        "\n",
        "隠しファイルのため表示されていない場合は、画面左側のある、目のアイコンの「隠しファイルの表示」ボタンを押してください。\n",
        "\n",
        "「.env_template」のファイル名を「.env」に変更します。「.env」ファイルを開くと、以下のような中身になっています。\n",
        "\n",
        "\n",
        "```\n",
        "HUGGINGFACE_TOKEN=\"hf-********\"\n",
        "NGROK_TOKEN=\"********\"\n",
        "```\n",
        "ダブルクオーテーションで囲まれた文字列をHuggingfaceのアクセストークンと、ngrokの認証トークンで書き変えてください。\n",
        "\n",
        "それぞれのアカウントが作成済みであれば、以下のURLからそれぞれのトークンを取得できます。\n",
        "\n",
        "- Huggingfaceのアクセストークン\n",
        "https://huggingface.co/docs/hub/security-tokens\n",
        "\n",
        "- ngrokの認証トークン\n",
        "https://dashboard.ngrok.com/get-started/your-authtoken\n",
        "\n",
        "書き換えたら、「.env」ファイルをローカルのPCにダウンロードしてください。\n",
        "\n",
        "「01_streamlit_UI」から「02_streamlit_app」へ進む際に、CPUからGPUの利用に切り替えるため、セッションが一度切れてしまいます。\n",
        "\n",
        "その際に、トークンを設定した「.env」ファイルは再作成することになるので、その手間を減らすために「.env」ファイルをダウンロードしておくと良いです。"
      ]
    },
    {
      "cell_type": "markdown",
      "metadata": {
        "id": "Py1BFS5RqcSS"
      },
      "source": [
        "「.env」ファイルを読み込み、環境変数として設定します。次のセルを実行し、最終的に「True」が表示されていればうまく読み込めています。"
      ]
    },
    {
      "cell_type": "code",
      "execution_count": 2,
      "metadata": {
        "id": "bvEowFfg5lrq",
        "colab": {
          "base_uri": "https://localhost:8080/"
        },
        "outputId": "6a29561f-a0bc-4683-a424-5927d0f0d1f0"
      },
      "outputs": [
        {
          "output_type": "stream",
          "name": "stdout",
          "text": [
            "Collecting python-dotenv\n",
            "  Downloading python_dotenv-1.1.0-py3-none-any.whl.metadata (24 kB)\n",
            "Downloading python_dotenv-1.1.0-py3-none-any.whl (20 kB)\n",
            "Installing collected packages: python-dotenv\n",
            "Successfully installed python-dotenv-1.1.0\n",
            "/content/lecture-ai-engineering/day1\n"
          ]
        },
        {
          "output_type": "execute_result",
          "data": {
            "text/plain": [
              "True"
            ]
          },
          "metadata": {},
          "execution_count": 2
        }
      ],
      "source": [
        "!pip install python-dotenv\n",
        "from dotenv import load_dotenv, find_dotenv\n",
        "\n",
        "%cd /content/lecture-ai-engineering/day1\n",
        "load_dotenv(find_dotenv())"
      ]
    },
    {
      "cell_type": "markdown",
      "metadata": {
        "id": "os0Yk6gaELSM"
      },
      "source": [
        "# 01_streamlit_UI\n",
        "\n",
        "ディレクトリ「01_streamlit_UI」に移動します。"
      ]
    },
    {
      "cell_type": "code",
      "execution_count": null,
      "metadata": {
        "id": "S28XgOm0ELSM"
      },
      "outputs": [],
      "source": [
        "%cd /content/lecture-ai-engineering/day1/01_streamlit_UI"
      ]
    },
    {
      "cell_type": "markdown",
      "metadata": {
        "id": "eVp-aEIkELSM"
      },
      "source": [
        "必要なライブラリをインストールします。"
      ]
    },
    {
      "cell_type": "code",
      "execution_count": null,
      "metadata": {
        "id": "nBe41LFiELSN"
      },
      "outputs": [],
      "source": [
        "%%capture\n",
        "!pip install -r requirements.txt"
      ]
    },
    {
      "cell_type": "markdown",
      "metadata": {
        "id": "Yyw6VHaTELSN"
      },
      "source": [
        "ngrokのトークンを使用して、認証を行います。"
      ]
    },
    {
      "cell_type": "code",
      "execution_count": null,
      "metadata": {
        "id": "aYw1q0iXELSN"
      },
      "outputs": [],
      "source": [
        "!ngrok authtoken $$NGROK_TOKEN"
      ]
    },
    {
      "cell_type": "markdown",
      "metadata": {
        "id": "RssTcD_IELSN"
      },
      "source": [
        "アプリを起動します。"
      ]
    },
    {
      "cell_type": "code",
      "execution_count": null,
      "metadata": {
        "id": "f-E7ucR6ELSN"
      },
      "outputs": [],
      "source": [
        "from pyngrok import ngrok\n",
        "\n",
        "public_url = ngrok.connect(8501).public_url\n",
        "print(f\"公開URL: {public_url}\")\n",
        "!streamlit run app.py"
      ]
    },
    {
      "cell_type": "markdown",
      "metadata": {
        "id": "kbYyXVFjELSN"
      },
      "source": [
        "公開URLの後に記載されているURLにブラウザでアクセスすると、streamlitのUIが表示されます。\n",
        "\n",
        "app.pyのコメントアウトされている箇所を編集することで、UIがどの様に変化するか確認してみましょう。\n",
        "\n",
        "streamlitの公式ページには、ギャラリーページがあります。\n",
        "\n",
        "streamlitを使うとpythonという一つの言語であっても、様々なUIを実現できることがわかると思います。\n",
        "\n",
        "https://streamlit.io/gallery"
      ]
    },
    {
      "cell_type": "markdown",
      "metadata": {
        "id": "MmtP5GLOELSN"
      },
      "source": [
        "後片付けとして、使う必要のないngrokのトンネルを削除します。"
      ]
    },
    {
      "cell_type": "code",
      "execution_count": null,
      "metadata": {
        "id": "8Ek9QgahELSO"
      },
      "outputs": [],
      "source": [
        "from pyngrok import ngrok\n",
        "ngrok.kill()"
      ]
    },
    {
      "cell_type": "markdown",
      "metadata": {
        "id": "o-T8tFpyELSO"
      },
      "source": [
        "# 02_streamlit_app"
      ]
    },
    {
      "cell_type": "markdown",
      "metadata": {
        "id": "QqogFQKnELSO"
      },
      "source": [
        "\n",
        "ディレクトリ「02_streamlit_app」に移動します。"
      ]
    },
    {
      "cell_type": "code",
      "execution_count": 11,
      "metadata": {
        "id": "UeEjlJ7uELSO",
        "colab": {
          "base_uri": "https://localhost:8080/"
        },
        "outputId": "495806cb-fae4-4c72-bb04-a2e5d944c8e0"
      },
      "outputs": [
        {
          "output_type": "stream",
          "name": "stdout",
          "text": [
            "/content/lecture-ai-engineering/day1/02_streamlit_app\n"
          ]
        }
      ],
      "source": [
        "%cd /content/lecture-ai-engineering/day1/02_streamlit_app"
      ]
    },
    {
      "cell_type": "markdown",
      "metadata": {
        "id": "-XUH2AstELSO"
      },
      "source": [
        "必要なライブラリをインストールします。"
      ]
    },
    {
      "cell_type": "code",
      "execution_count": 12,
      "metadata": {
        "id": "mDqvI4V3ELSO"
      },
      "outputs": [],
      "source": [
        "%%capture\n",
        "!pip install -r requirements.txt"
      ]
    },
    {
      "cell_type": "markdown",
      "metadata": {
        "id": "ZO31umGZELSO"
      },
      "source": [
        "ngrokとhuggigfaceのトークンを使用して、認証を行います。"
      ]
    },
    {
      "cell_type": "code",
      "execution_count": 13,
      "metadata": {
        "id": "jPxTiEWQELSO",
        "colab": {
          "base_uri": "https://localhost:8080/"
        },
        "outputId": "5c2c5d5d-1b62-4efe-b672-5cd0923c27af"
      },
      "outputs": [
        {
          "output_type": "stream",
          "name": "stdout",
          "text": [
            "Authtoken saved to configuration file: /root/.config/ngrok/ngrok.yml\n",
            "The token has not been saved to the git credentials helper. Pass `add_to_git_credential=True` in this function directly or `--add-to-git-credential` if using via `huggingface-cli` if you want to set the git credential as well.\n",
            "Token is valid (permission: fineGrained).\n",
            "The token `google_colab` has been saved to /root/.cache/huggingface/stored_tokens\n",
            "Your token has been saved to /root/.cache/huggingface/token\n",
            "Login successful.\n",
            "The current active token is: `google_colab`\n"
          ]
        }
      ],
      "source": [
        "!ngrok authtoken $$NGROK_TOKEN\n",
        "!huggingface-cli login --token $$HUGGINGFACE_TOKEN"
      ]
    },
    {
      "cell_type": "markdown",
      "metadata": {
        "id": "dz4WrELLELSP"
      },
      "source": [
        "stramlitでHuggingfaceのトークン情報を扱うために、streamlit用の設定ファイル（.streamlit）を作成し、トークンの情報を格納します。"
      ]
    },
    {
      "cell_type": "code",
      "execution_count": 14,
      "metadata": {
        "id": "W184-a7qFP0W"
      },
      "outputs": [],
      "source": [
        "# .streamlit/secrets.toml ファイルを作成\n",
        "import os\n",
        "import toml\n",
        "\n",
        "# 設定ファイルのディレクトリ確保\n",
        "os.makedirs('.streamlit', exist_ok=True)\n",
        "\n",
        "# 環境変数から取得したトークンを設定ファイルに書き込む\n",
        "secrets = {\n",
        "    \"huggingface\": {\n",
        "        \"token\": os.environ.get(\"HUGGINGFACE_TOKEN\", \"\")\n",
        "    }\n",
        "}\n",
        "\n",
        "# 設定ファイルを書き込む\n",
        "with open('.streamlit/secrets.toml', 'w') as f:\n",
        "    toml.dump(secrets, f)"
      ]
    },
    {
      "cell_type": "markdown",
      "metadata": {
        "id": "fK0vI_xKELSP"
      },
      "source": [
        "アプリを起動します。\n",
        "\n",
        "02_streamlit_appでは、Huggingfaceからモデルをダウンロードするため、初回起動には2分程度時間がかかります。\n",
        "\n",
        "この待ち時間を利用して、app.pyのコードを確認してみましょう。"
      ]
    },
    {
      "cell_type": "code",
      "execution_count": 15,
      "metadata": {
        "id": "TBQyTTWTELSP",
        "colab": {
          "base_uri": "https://localhost:8080/"
        },
        "outputId": "a6b842de-dd09-4f58-9775-147727537553"
      },
      "outputs": [
        {
          "output_type": "stream",
          "name": "stdout",
          "text": [
            "公開URL: https://3030-34-16-245-169.ngrok-free.app\n",
            "\n",
            "Collecting usage statistics. To deactivate, set browser.gatherUsageStats to false.\n",
            "\u001b[0m\n",
            "\u001b[0m\n",
            "\u001b[34m\u001b[1m  You can now view your Streamlit app in your browser.\u001b[0m\n",
            "\u001b[0m\n",
            "\u001b[34m  Local URL: \u001b[0m\u001b[1mhttp://localhost:8501\u001b[0m\n",
            "\u001b[34m  Network URL: \u001b[0m\u001b[1mhttp://172.28.0.12:8501\u001b[0m\n",
            "\u001b[34m  External URL: \u001b[0m\u001b[1mhttp://34.16.245.169:8501\u001b[0m\n",
            "\u001b[0m\n",
            "NLTK loaded successfully.\n",
            "2025-04-30 02:56:11.228215: E external/local_xla/xla/stream_executor/cuda/cuda_fft.cc:477] Unable to register cuFFT factory: Attempting to register factory for plugin cuFFT when one has already been registered\n",
            "WARNING: All log messages before absl::InitializeLog() is called are written to STDERR\n",
            "E0000 00:00:1745981771.251268    2362 cuda_dnn.cc:8310] Unable to register cuDNN factory: Attempting to register factory for plugin cuDNN when one has already been registered\n",
            "E0000 00:00:1745981771.258531    2362 cuda_blas.cc:1418] Unable to register cuBLAS factory: Attempting to register factory for plugin cuBLAS when one has already been registered\n",
            "2025-04-30 02:56:11.283173: I tensorflow/core/platform/cpu_feature_guard.cc:210] This TensorFlow binary is optimized to use available CPU instructions in performance-critical operations.\n",
            "To enable the following instructions: AVX2 AVX512F FMA, in other operations, rebuild TensorFlow with the appropriate compiler flags.\n",
            "NLTK Punkt data checked/downloaded.\n",
            "Database 'chat_feedback.db' initialized successfully.\n",
            "Data saved to DB successfully.\n",
            "Data saved to DB successfully.\n",
            "Data saved to DB successfully.\n",
            "Data saved to DB successfully.\n",
            "Data saved to DB successfully.\n",
            "Data saved to DB successfully.\n",
            "Data saved to DB successfully.\n",
            "Data saved to DB successfully.\n",
            "Data saved to DB successfully.\n",
            "Data saved to DB successfully.\n",
            "config.json: 100% 855/855 [00:00<00:00, 5.36MB/s]\n",
            "model.safetensors.index.json: 100% 90.6k/90.6k [00:00<00:00, 1.30MB/s]\n",
            "Fetching 2 files:   0% 0/2 [00:00<?, ?it/s]\n",
            "model-00002-of-00002.safetensors:   0% 0.00/3.64G [00:00<?, ?B/s]\u001b[A\n",
            "model-00002-of-00002.safetensors:   1% 21.0M/3.64G [00:00<00:20, 175MB/s]\u001b[A\n",
            "model-00002-of-00002.safetensors:   2% 62.9M/3.64G [00:00<00:13, 268MB/s]\u001b[A\n",
            "model-00002-of-00002.safetensors:   3% 105M/3.64G [00:00<00:11, 295MB/s] \u001b[A\n",
            "model-00002-of-00002.safetensors:   4% 136M/3.64G [00:00<00:12, 290MB/s]\u001b[A\n",
            "model-00002-of-00002.safetensors:   5% 168M/3.64G [00:00<00:12, 287MB/s]\u001b[A\n",
            "model-00002-of-00002.safetensors:   5% 199M/3.64G [00:00<00:12, 284MB/s]\u001b[A\n",
            "model-00002-of-00002.safetensors:   6% 231M/3.64G [00:00<00:12, 280MB/s]\u001b[A\n",
            "model-00002-of-00002.safetensors:   7% 262M/3.64G [00:00<00:11, 285MB/s]\u001b[A\n",
            "model-00002-of-00002.safetensors:   8% 294M/3.64G [00:01<00:11, 292MB/s]\u001b[A\n",
            "\n",
            "model-00001-of-00002.safetensors:   0% 0.00/4.96G [00:00<?, ?B/s]\u001b[A\u001b[A\n",
            "model-00002-of-00002.safetensors:   9% 325M/3.64G [00:01<00:11, 283MB/s]\u001b[A\n",
            "model-00002-of-00002.safetensors:  10% 357M/3.64G [00:01<00:11, 285MB/s]\u001b[A\n",
            "model-00002-of-00002.safetensors:  11% 388M/3.64G [00:01<00:11, 287MB/s]\u001b[A\n",
            "\n",
            "model-00001-of-00002.safetensors:   0% 10.5M/4.96G [00:00<04:20, 19.0MB/s]\u001b[A\u001b[A\n",
            "\n",
            "model-00001-of-00002.safetensors:   0% 21.0M/4.96G [00:00<02:51, 28.8MB/s]\u001b[A\u001b[A\n",
            "\n",
            "model-00001-of-00002.safetensors:   1% 31.5M/4.96G [00:00<01:56, 42.2MB/s]\u001b[A\u001b[A\n",
            "\n",
            "model-00001-of-00002.safetensors:   1% 41.9M/4.96G [00:01<01:57, 41.8MB/s]\u001b[A\u001b[A\n",
            "\n",
            "model-00001-of-00002.safetensors:   1% 52.4M/4.96G [00:01<02:01, 40.5MB/s]\u001b[A\u001b[A\n",
            "model-00002-of-00002.safetensors:  12% 419M/3.64G [00:02<00:54, 58.8MB/s]\u001b[A\n",
            "\n",
            "model-00001-of-00002.safetensors:   1% 62.9M/4.96G [00:01<02:43, 29.9MB/s]\u001b[A\u001b[A\n",
            "model-00002-of-00002.safetensors:  12% 451M/3.64G [00:03<00:41, 76.2MB/s]\u001b[A\n",
            "model-00002-of-00002.safetensors:  13% 482M/3.64G [00:03<00:32, 96.9MB/s]\u001b[A\n",
            "\n",
            "model-00001-of-00002.safetensors:   1% 73.4M/4.96G [00:02<03:04, 26.4MB/s]\u001b[A\u001b[A\n",
            "\n",
            "model-00001-of-00002.safetensors:   2% 83.9M/4.96G [00:02<02:47, 29.2MB/s]\u001b[A\u001b[A\n",
            "\n",
            "model-00001-of-00002.safetensors:   2% 94.4M/4.96G [00:03<03:08, 25.9MB/s]\u001b[A\u001b[A\n",
            "\n",
            "model-00001-of-00002.safetensors:   2% 105M/4.96G [00:03<03:06, 26.0MB/s] \u001b[A\u001b[A\n",
            "model-00002-of-00002.safetensors:  14% 514M/3.64G [00:04<01:12, 43.1MB/s]\u001b[A\n",
            "\n",
            "model-00001-of-00002.safetensors:   2% 115M/4.96G [00:03<02:30, 32.2MB/s]\u001b[A\u001b[A\n",
            "model-00002-of-00002.safetensors:  15% 535M/3.64G [00:04<01:00, 51.4MB/s]\u001b[A\n",
            "model-00002-of-00002.safetensors:  16% 566M/3.64G [00:05<00:44, 68.6MB/s]\u001b[A\n",
            "model-00002-of-00002.safetensors:  16% 598M/3.64G [00:05<00:34, 88.2MB/s]\u001b[A\n",
            "model-00002-of-00002.safetensors:  17% 629M/3.64G [00:05<00:26, 112MB/s] \u001b[A\n",
            "\n",
            "model-00001-of-00002.safetensors:   3% 126M/4.96G [00:04<03:00, 26.8MB/s]\u001b[A\u001b[A\n",
            "model-00002-of-00002.safetensors:  18% 661M/3.64G [00:05<00:21, 137MB/s]\u001b[A\n",
            "model-00002-of-00002.safetensors:  19% 692M/3.64G [00:05<00:17, 164MB/s]\u001b[A\n",
            "model-00002-of-00002.safetensors:  20% 724M/3.64G [00:05<00:15, 188MB/s]\u001b[A\n",
            "model-00002-of-00002.safetensors:  21% 755M/3.64G [00:05<00:13, 210MB/s]\u001b[A\n",
            "\n",
            "model-00001-of-00002.safetensors:   3% 136M/4.96G [00:05<05:11, 15.5MB/s]\u001b[A\u001b[A\n",
            "model-00002-of-00002.safetensors:  22% 786M/3.64G [00:07<00:49, 57.6MB/s]\u001b[A\n",
            "model-00002-of-00002.safetensors:  22% 818M/3.64G [00:07<00:37, 74.3MB/s]\u001b[A\n",
            "model-00002-of-00002.safetensors:  23% 849M/3.64G [00:07<00:29, 95.6MB/s]\u001b[A\n",
            "model-00002-of-00002.safetensors:  24% 881M/3.64G [00:07<00:22, 120MB/s] \u001b[A\n",
            "model-00002-of-00002.safetensors:  25% 912M/3.64G [00:07<00:19, 142MB/s]\u001b[A\n",
            "model-00002-of-00002.safetensors:  26% 944M/3.64G [00:07<00:16, 167MB/s]\u001b[A\n",
            "\n",
            "model-00001-of-00002.safetensors:   3% 147M/4.96G [00:06<06:13, 12.9MB/s]\u001b[A\u001b[A\n",
            "model-00002-of-00002.safetensors:  27% 975M/3.64G [00:07<00:14, 187MB/s]\u001b[A\n",
            "\n",
            "model-00001-of-00002.safetensors:   3% 157M/4.96G [00:07<04:50, 16.5MB/s]\u001b[A\u001b[A\n",
            "\n",
            "model-00001-of-00002.safetensors:   3% 168M/4.96G [00:08<06:22, 12.5MB/s]\u001b[A\u001b[A\n",
            "model-00002-of-00002.safetensors:  28% 1.01G/3.64G [00:11<01:42, 25.6MB/s]\u001b[A\n",
            "\n",
            "model-00001-of-00002.safetensors:   4% 178M/4.96G [00:10<09:44, 8.18MB/s]\u001b[A\u001b[A\n",
            "model-00002-of-00002.safetensors:  29% 1.04G/3.64G [00:11<01:14, 35.1MB/s]\u001b[A\n",
            "model-00002-of-00002.safetensors:  29% 1.07G/3.64G [00:11<00:54, 47.4MB/s]\u001b[A\n",
            "model-00002-of-00002.safetensors:  30% 1.10G/3.64G [00:12<00:40, 62.5MB/s]\u001b[A\n",
            "model-00002-of-00002.safetensors:  31% 1.13G/3.64G [00:12<00:30, 81.2MB/s]\u001b[A\n",
            "model-00002-of-00002.safetensors:  32% 1.16G/3.64G [00:12<00:23, 103MB/s] \u001b[A\n",
            "\n",
            "model-00001-of-00002.safetensors:   4% 199M/4.96G [00:11<06:20, 12.5MB/s]\u001b[A\u001b[A\n",
            "model-00002-of-00002.safetensors:  33% 1.20G/3.64G [00:12<00:19, 128MB/s]\u001b[A\n",
            "\n",
            "model-00001-of-00002.safetensors:   4% 210M/4.96G [00:11<04:59, 15.8MB/s]\u001b[A\u001b[A\n",
            "model-00002-of-00002.safetensors:  34% 1.23G/3.64G [00:12<00:17, 141MB/s]\u001b[A\n",
            "model-00002-of-00002.safetensors:  35% 1.26G/3.64G [00:12<00:14, 166MB/s]\u001b[A\n",
            "model-00002-of-00002.safetensors:  35% 1.29G/3.64G [00:12<00:12, 191MB/s]\u001b[A\n",
            "\n",
            "model-00001-of-00002.safetensors:   4% 220M/4.96G [00:11<04:24, 17.9MB/s]\u001b[A\u001b[A\n",
            "model-00002-of-00002.safetensors:  36% 1.32G/3.64G [00:12<00:11, 205MB/s]\u001b[A\n",
            "model-00002-of-00002.safetensors:  37% 1.35G/3.64G [00:13<00:10, 213MB/s]\u001b[A\n",
            "\n",
            "model-00001-of-00002.safetensors:   5% 231M/4.96G [00:11<03:35, 21.9MB/s]\u001b[A\u001b[A\n",
            "\n",
            "model-00001-of-00002.safetensors:   5% 241M/4.96G [00:12<02:48, 28.0MB/s]\u001b[A\u001b[A\n",
            "model-00002-of-00002.safetensors:  38% 1.38G/3.64G [00:13<00:10, 217MB/s]\u001b[A\n",
            "model-00002-of-00002.safetensors:  39% 1.42G/3.64G [00:13<00:09, 229MB/s]\u001b[A\n",
            "model-00002-of-00002.safetensors:  40% 1.45G/3.64G [00:13<00:09, 241MB/s]\u001b[A\n",
            "model-00002-of-00002.safetensors:  41% 1.48G/3.64G [00:13<00:08, 255MB/s]\u001b[A\n",
            "\n",
            "model-00001-of-00002.safetensors:   5% 252M/4.96G [00:12<02:55, 26.8MB/s]\u001b[A\u001b[A\n",
            "model-00002-of-00002.safetensors:  41% 1.51G/3.64G [00:13<00:08, 258MB/s]\u001b[A\n",
            "model-00002-of-00002.safetensors:  42% 1.54G/3.64G [00:13<00:09, 224MB/s]\u001b[A\n",
            "\n",
            "model-00001-of-00002.safetensors:   5% 262M/4.96G [00:12<02:37, 29.9MB/s]\u001b[A\u001b[A\n",
            "model-00002-of-00002.safetensors:  43% 1.57G/3.64G [00:13<00:08, 235MB/s]\u001b[A\n",
            "\n",
            "model-00001-of-00002.safetensors:   5% 273M/4.96G [00:12<02:15, 34.6MB/s]\u001b[A\u001b[A\n",
            "model-00002-of-00002.safetensors:  44% 1.60G/3.64G [00:14<00:08, 240MB/s]\u001b[A\n",
            "model-00002-of-00002.safetensors:  45% 1.64G/3.64G [00:14<00:08, 223MB/s]\u001b[A\n",
            "\n",
            "model-00001-of-00002.safetensors:   6% 283M/4.96G [00:13<02:02, 38.1MB/s]\u001b[A\u001b[A\n",
            "model-00002-of-00002.safetensors:  46% 1.67G/3.64G [00:14<00:10, 191MB/s]\u001b[A\n",
            "model-00002-of-00002.safetensors:  47% 1.70G/3.64G [00:14<00:09, 209MB/s]\u001b[A\n",
            "\n",
            "model-00001-of-00002.safetensors:   6% 294M/4.96G [00:13<02:13, 35.1MB/s]\u001b[A\u001b[A\n",
            "model-00002-of-00002.safetensors:  48% 1.73G/3.64G [00:14<00:08, 221MB/s]\u001b[A\n",
            "model-00002-of-00002.safetensors:  48% 1.76G/3.64G [00:14<00:08, 228MB/s]\u001b[A\n",
            "\n",
            "model-00001-of-00002.safetensors:   6% 304M/4.96G [00:13<02:03, 37.6MB/s]\u001b[A\u001b[A\n",
            "model-00002-of-00002.safetensors:  49% 1.79G/3.64G [00:14<00:08, 214MB/s]\u001b[A\n",
            "model-00002-of-00002.safetensors:  50% 1.82G/3.64G [00:15<00:08, 224MB/s]\u001b[A\n",
            "model-00002-of-00002.safetensors:  51% 1.86G/3.64G [00:15<00:09, 192MB/s]\u001b[A\n",
            "model-00002-of-00002.safetensors:  52% 1.88G/3.64G [00:15<00:09, 193MB/s]\u001b[A\n",
            "model-00002-of-00002.safetensors:  52% 1.91G/3.64G [00:15<00:08, 215MB/s]\u001b[A\n",
            "model-00002-of-00002.safetensors:  53% 1.94G/3.64G [00:15<00:07, 233MB/s]\u001b[A\n",
            "model-00002-of-00002.safetensors:  54% 1.97G/3.64G [00:15<00:06, 248MB/s]\u001b[A\n",
            "\n",
            "model-00001-of-00002.safetensors:   6% 315M/4.96G [00:14<03:38, 21.3MB/s]\u001b[A\u001b[A\n",
            "model-00002-of-00002.safetensors:  55% 2.00G/3.64G [00:15<00:06, 259MB/s]\u001b[A\n",
            "model-00002-of-00002.safetensors:  56% 2.03G/3.64G [00:15<00:06, 253MB/s]\u001b[A\n",
            "model-00002-of-00002.safetensors:  57% 2.07G/3.64G [00:16<00:05, 263MB/s]\u001b[A\n",
            "\n",
            "model-00001-of-00002.safetensors:   7% 325M/4.96G [00:15<03:21, 23.0MB/s]\u001b[A\u001b[A\n",
            "model-00002-of-00002.safetensors:  58% 2.10G/3.64G [00:16<00:06, 242MB/s]\u001b[A\n",
            "\n",
            "model-00001-of-00002.safetensors:   7% 336M/4.96G [00:15<02:43, 28.4MB/s]\u001b[A\u001b[A\n",
            "model-00002-of-00002.safetensors:  58% 2.13G/3.64G [00:16<00:07, 212MB/s]\u001b[A\n",
            "model-00002-of-00002.safetensors:  59% 2.16G/3.64G [00:16<00:06, 230MB/s]\u001b[A\n",
            "model-00002-of-00002.safetensors:  60% 2.19G/3.64G [00:16<00:06, 237MB/s]\u001b[A\n",
            "\n",
            "model-00001-of-00002.safetensors:   7% 346M/4.96G [00:15<02:46, 27.7MB/s]\u001b[A\u001b[A\n",
            "model-00002-of-00002.safetensors:  61% 2.22G/3.64G [00:16<00:06, 216MB/s]\u001b[A\n",
            "model-00002-of-00002.safetensors:  62% 2.25G/3.64G [00:16<00:06, 223MB/s]\u001b[A\n",
            "model-00002-of-00002.safetensors:  63% 2.29G/3.64G [00:17<00:05, 236MB/s]\u001b[A\n",
            "model-00002-of-00002.safetensors:  64% 2.32G/3.64G [00:17<00:06, 212MB/s]\u001b[A\n",
            "model-00002-of-00002.safetensors:  65% 2.35G/3.64G [00:17<00:07, 165MB/s]\u001b[A\n",
            "\n",
            "model-00001-of-00002.safetensors:   7% 357M/4.96G [00:16<03:50, 19.9MB/s]\u001b[A\u001b[A\n",
            "model-00002-of-00002.safetensors:  65% 2.37G/3.64G [00:17<00:08, 153MB/s]\u001b[A\n",
            "model-00002-of-00002.safetensors:  66% 2.39G/3.64G [00:17<00:08, 146MB/s]\u001b[A\n",
            "model-00002-of-00002.safetensors:  66% 2.41G/3.64G [00:18<00:07, 154MB/s]\u001b[A\n",
            "\n",
            "model-00001-of-00002.safetensors:   7% 367M/4.96G [00:17<03:43, 20.5MB/s]\u001b[A\u001b[A\n",
            "model-00002-of-00002.safetensors:  67% 2.43G/3.64G [00:18<00:08, 150MB/s]\u001b[A\n",
            "model-00002-of-00002.safetensors:  67% 2.45G/3.64G [00:18<00:07, 154MB/s]\u001b[A\n",
            "\n",
            "model-00001-of-00002.safetensors:   8% 377M/4.96G [00:17<03:12, 23.8MB/s]\u001b[A\u001b[A\n",
            "model-00002-of-00002.safetensors:  68% 2.47G/3.64G [00:18<00:07, 147MB/s]\u001b[A\n",
            "\n",
            "model-00001-of-00002.safetensors:   8% 398M/4.96G [00:17<01:59, 38.1MB/s]\u001b[A\u001b[A\n",
            "model-00002-of-00002.safetensors:  69% 2.51G/3.64G [00:18<00:06, 177MB/s]\u001b[A\n",
            "\n",
            "model-00001-of-00002.safetensors:   8% 419M/4.96G [00:17<01:24, 53.7MB/s]\u001b[A\u001b[A\n",
            "model-00002-of-00002.safetensors:  70% 2.54G/3.64G [00:18<00:05, 194MB/s]\u001b[A\n",
            "model-00002-of-00002.safetensors:  70% 2.56G/3.64G [00:18<00:05, 181MB/s]\u001b[A\n",
            "\n",
            "model-00001-of-00002.safetensors:   9% 440M/4.96G [00:17<01:09, 65.3MB/s]\u001b[A\u001b[A\n",
            "model-00002-of-00002.safetensors:  71% 2.59G/3.64G [00:18<00:05, 197MB/s]\u001b[A\n",
            "model-00002-of-00002.safetensors:  72% 2.62G/3.64G [00:19<00:04, 220MB/s]\u001b[A\n",
            "model-00002-of-00002.safetensors:  73% 2.65G/3.64G [00:19<00:04, 241MB/s]\u001b[A\n",
            "\n",
            "model-00001-of-00002.safetensors:   9% 451M/4.96G [00:18<01:31, 49.4MB/s]\u001b[A\u001b[A\n",
            "model-00002-of-00002.safetensors:  74% 2.68G/3.64G [00:19<00:03, 239MB/s]\u001b[A\n",
            "model-00002-of-00002.safetensors:  75% 2.72G/3.64G [00:19<00:03, 239MB/s]\u001b[A\n",
            "model-00002-of-00002.safetensors:  75% 2.75G/3.64G [00:19<00:03, 247MB/s]\u001b[A\n",
            "\n",
            "model-00001-of-00002.safetensors:   9% 461M/4.96G [00:18<01:39, 45.1MB/s]\u001b[A\u001b[A\n",
            "model-00002-of-00002.safetensors:  76% 2.78G/3.64G [00:19<00:03, 247MB/s]\u001b[A\n",
            "\n",
            "model-00001-of-00002.safetensors:  10% 472M/4.96G [00:18<01:37, 46.0MB/s]\u001b[A\u001b[A\n",
            "model-00002-of-00002.safetensors:  77% 2.81G/3.64G [00:19<00:03, 262MB/s]\u001b[A\n",
            "model-00002-of-00002.safetensors:  78% 2.84G/3.64G [00:19<00:02, 274MB/s]\u001b[A\n",
            "model-00002-of-00002.safetensors:  79% 2.88G/3.64G [00:20<00:02, 286MB/s]\u001b[A\n",
            "\n",
            "model-00001-of-00002.safetensors:  10% 482M/4.96G [00:18<01:39, 45.0MB/s]\u001b[A\u001b[A\n",
            "model-00002-of-00002.safetensors:  80% 2.92G/3.64G [00:20<00:03, 238MB/s]\u001b[A\n",
            "\n",
            "model-00001-of-00002.safetensors:  10% 493M/4.96G [00:19<01:44, 42.6MB/s]\u001b[A\u001b[A\n",
            "\n",
            "model-00001-of-00002.safetensors:  10% 503M/4.96G [00:19<02:06, 35.1MB/s]\u001b[A\u001b[A\n",
            "\n",
            "model-00001-of-00002.safetensors:  10% 514M/4.96G [00:20<02:58, 25.0MB/s]\u001b[A\u001b[A\n",
            "model-00002-of-00002.safetensors:  81% 2.95G/3.64G [00:21<00:10, 67.1MB/s]\u001b[A\n",
            "\n",
            "model-00001-of-00002.safetensors:  11% 524M/4.96G [00:20<02:20, 31.6MB/s]\u001b[A\u001b[A\n",
            "model-00002-of-00002.safetensors:  82% 2.97G/3.64G [00:21<00:08, 76.6MB/s]\u001b[A\n",
            "model-00002-of-00002.safetensors:  82% 3.00G/3.64G [00:21<00:06, 96.9MB/s]\u001b[A\n",
            "model-00002-of-00002.safetensors:  83% 3.03G/3.64G [00:21<00:05, 119MB/s] \u001b[A\n",
            "model-00002-of-00002.safetensors:  84% 3.06G/3.64G [00:22<00:04, 142MB/s]\u001b[A\n",
            "\n",
            "model-00001-of-00002.safetensors:  11% 535M/4.96G [00:21<02:39, 27.8MB/s]\u001b[A\u001b[A\n",
            "model-00002-of-00002.safetensors:  85% 3.09G/3.64G [00:22<00:03, 159MB/s]\u001b[A\n",
            "model-00002-of-00002.safetensors:  86% 3.12G/3.64G [00:22<00:02, 175MB/s]\u001b[A\n",
            "model-00002-of-00002.safetensors:  87% 3.16G/3.64G [00:22<00:02, 186MB/s]\u001b[A\n",
            "model-00002-of-00002.safetensors:  88% 3.19G/3.64G [00:22<00:02, 195MB/s]\u001b[A\n",
            "\n",
            "model-00001-of-00002.safetensors:  11% 545M/4.96G [00:21<03:10, 23.1MB/s]\u001b[A\u001b[A\n",
            "model-00002-of-00002.safetensors:  88% 3.22G/3.64G [00:22<00:02, 195MB/s]\u001b[A\n",
            "\n",
            "model-00001-of-00002.safetensors:  11% 556M/4.96G [00:21<02:31, 29.0MB/s]\u001b[A\u001b[A\n",
            "model-00002-of-00002.safetensors:  89% 3.25G/3.64G [00:22<00:02, 186MB/s]\u001b[A\n",
            "\n",
            "model-00001-of-00002.safetensors:  12% 577M/4.96G [00:21<01:39, 44.2MB/s]\u001b[A\u001b[A\n",
            "model-00002-of-00002.safetensors:  90% 3.27G/3.64G [00:23<00:02, 181MB/s]\u001b[A\n",
            "model-00002-of-00002.safetensors:  90% 3.29G/3.64G [00:23<00:02, 120MB/s]\u001b[A\n",
            "model-00002-of-00002.safetensors:  91% 3.32G/3.64G [00:23<00:02, 143MB/s]\u001b[A\n",
            "\n",
            "model-00001-of-00002.safetensors:  12% 587M/4.96G [00:22<02:18, 31.6MB/s]\u001b[A\u001b[A\n",
            "model-00002-of-00002.safetensors:  92% 3.36G/3.64G [00:23<00:01, 171MB/s]\u001b[A\n",
            "\n",
            "model-00001-of-00002.safetensors:  12% 598M/4.96G [00:22<02:01, 36.0MB/s]\u001b[A\u001b[A\n",
            "model-00002-of-00002.safetensors:  93% 3.38G/3.64G [00:25<00:05, 45.3MB/s]\u001b[A\n",
            "model-00002-of-00002.safetensors:  94% 3.41G/3.64G [00:25<00:03, 60.6MB/s]\u001b[A\n",
            "\n",
            "model-00001-of-00002.safetensors:  12% 608M/4.96G [00:24<04:43, 15.4MB/s]\u001b[A\u001b[A\n",
            "\n",
            "model-00001-of-00002.safetensors:  12% 619M/4.96G [00:24<03:47, 19.1MB/s]\u001b[A\u001b[A\n",
            "\n",
            "model-00001-of-00002.safetensors:  13% 640M/4.96G [00:24<02:21, 30.5MB/s]\u001b[A\u001b[A\n",
            "\n",
            "model-00001-of-00002.safetensors:  13% 661M/4.96G [00:25<01:59, 35.9MB/s]\u001b[A\u001b[A\n",
            "\n",
            "model-00001-of-00002.safetensors:  14% 671M/4.96G [00:25<01:43, 41.3MB/s]\u001b[A\u001b[A\n",
            "\n",
            "model-00001-of-00002.safetensors:  14% 692M/4.96G [00:25<01:14, 57.5MB/s]\u001b[A\u001b[A\n",
            "\n",
            "model-00001-of-00002.safetensors:  14% 703M/4.96G [00:25<01:07, 63.4MB/s]\u001b[A\u001b[A\n",
            "model-00002-of-00002.safetensors:  95% 3.44G/3.64G [00:26<00:05, 39.3MB/s]\u001b[A\n",
            "\n",
            "model-00001-of-00002.safetensors:  15% 724M/4.96G [00:25<00:51, 82.5MB/s]\u001b[A\u001b[A\n",
            "\n",
            "model-00001-of-00002.safetensors:  15% 744M/4.96G [00:25<00:43, 95.9MB/s]\u001b[A\u001b[A\n",
            "model-00002-of-00002.safetensors:  95% 3.46G/3.64G [00:27<00:03, 46.3MB/s]\u001b[A\n",
            "model-00002-of-00002.safetensors:  96% 3.48G/3.64G [00:27<00:02, 57.3MB/s]\u001b[A\n",
            "model-00002-of-00002.safetensors:  97% 3.51G/3.64G [00:27<00:01, 77.7MB/s]\u001b[A\n",
            "model-00002-of-00002.safetensors:  97% 3.54G/3.64G [00:27<00:00, 102MB/s] \u001b[A\n",
            "model-00002-of-00002.safetensors:  98% 3.58G/3.64G [00:27<00:00, 127MB/s]\u001b[A\n",
            "model-00002-of-00002.safetensors:  99% 3.61G/3.64G [00:27<00:00, 151MB/s]\u001b[A\n",
            "model-00002-of-00002.safetensors: 100% 3.64G/3.64G [00:27<00:00, 131MB/s]\n",
            "\n",
            "\n",
            "model-00001-of-00002.safetensors:  15% 765M/4.96G [00:26<01:23, 50.0MB/s]\u001b[A\u001b[A\n",
            "\n",
            "model-00001-of-00002.safetensors:  16% 776M/4.96G [00:26<01:16, 54.6MB/s]\u001b[A\u001b[A\n",
            "\n",
            "model-00001-of-00002.safetensors:  16% 786M/4.96G [00:27<01:11, 58.5MB/s]\u001b[A\u001b[A\n",
            "\n",
            "model-00001-of-00002.safetensors:  16% 797M/4.96G [00:27<01:15, 55.4MB/s]\u001b[A\u001b[A\n",
            "\n",
            "model-00001-of-00002.safetensors:  16% 807M/4.96G [00:27<01:13, 56.2MB/s]\u001b[A\u001b[A\n",
            "\n",
            "model-00001-of-00002.safetensors:  16% 818M/4.96G [00:27<01:16, 53.9MB/s]\u001b[A\u001b[A\n",
            "\n",
            "model-00001-of-00002.safetensors:  17% 828M/4.96G [00:27<01:26, 47.9MB/s]\u001b[A\u001b[A\n",
            "\n",
            "model-00001-of-00002.safetensors:  17% 839M/4.96G [00:28<03:02, 22.5MB/s]\u001b[A\u001b[A\n",
            "\n",
            "model-00001-of-00002.safetensors:  17% 849M/4.96G [00:29<03:10, 21.6MB/s]\u001b[A\u001b[A\n",
            "\n",
            "model-00001-of-00002.safetensors:  17% 860M/4.96G [00:29<02:36, 26.2MB/s]\u001b[A\u001b[A\n",
            "\n",
            "model-00001-of-00002.safetensors:  18% 870M/4.96G [00:29<02:07, 32.0MB/s]\u001b[A\u001b[A\n",
            "\n",
            "model-00001-of-00002.safetensors:  18% 881M/4.96G [00:30<02:33, 26.5MB/s]\u001b[A\u001b[A\n",
            "\n",
            "model-00001-of-00002.safetensors:  18% 891M/4.96G [00:30<02:39, 25.5MB/s]\u001b[A\u001b[A\n",
            "\n",
            "model-00001-of-00002.safetensors:  18% 902M/4.96G [00:31<02:13, 30.4MB/s]\u001b[A\u001b[A\n",
            "\n",
            "model-00001-of-00002.safetensors:  18% 912M/4.96G [00:31<01:45, 38.2MB/s]\u001b[A\u001b[A\n",
            "\n",
            "model-00001-of-00002.safetensors:  19% 923M/4.96G [00:31<01:51, 36.1MB/s]\u001b[A\u001b[A\n",
            "\n",
            "model-00001-of-00002.safetensors:  19% 933M/4.96G [00:32<02:47, 24.0MB/s]\u001b[A\u001b[A\n",
            "\n",
            "model-00001-of-00002.safetensors:  19% 944M/4.96G [00:32<02:29, 26.9MB/s]\u001b[A\u001b[A\n",
            "\n",
            "model-00001-of-00002.safetensors:  19% 954M/4.96G [00:32<01:59, 33.5MB/s]\u001b[A\u001b[A\n",
            "\n",
            "model-00001-of-00002.safetensors:  19% 965M/4.96G [00:32<01:35, 41.7MB/s]\u001b[A\u001b[A\n",
            "\n",
            "model-00001-of-00002.safetensors:  20% 975M/4.96G [00:32<01:20, 49.6MB/s]\u001b[A\u001b[A\n",
            "\n",
            "model-00001-of-00002.safetensors:  20% 996M/4.96G [00:33<01:02, 63.8MB/s]\u001b[A\u001b[A\n",
            "\n",
            "model-00001-of-00002.safetensors:  21% 1.02G/4.96G [00:33<00:48, 81.3MB/s]\u001b[A\u001b[A\n",
            "\n",
            "model-00001-of-00002.safetensors:  21% 1.04G/4.96G [00:33<00:41, 94.0MB/s]\u001b[A\u001b[A\n",
            "\n",
            "model-00001-of-00002.safetensors:  21% 1.06G/4.96G [00:33<00:40, 95.8MB/s]\u001b[A\u001b[A\n",
            "\n",
            "model-00001-of-00002.safetensors:  22% 1.08G/4.96G [00:33<00:43, 90.2MB/s]\u001b[A\u001b[A\n",
            "\n",
            "model-00001-of-00002.safetensors:  22% 1.10G/4.96G [00:34<00:39, 96.7MB/s]\u001b[A\u001b[A\n",
            "\n",
            "model-00001-of-00002.safetensors:  22% 1.11G/4.96G [00:34<00:43, 89.4MB/s]\u001b[A\u001b[A\n",
            "\n",
            "model-00001-of-00002.safetensors:  23% 1.13G/4.96G [00:34<00:53, 71.4MB/s]\u001b[A\u001b[A\n",
            "\n",
            "model-00001-of-00002.safetensors:  23% 1.14G/4.96G [00:34<00:52, 72.5MB/s]\u001b[A\u001b[A\n",
            "\n",
            "model-00001-of-00002.safetensors:  23% 1.15G/4.96G [00:35<00:56, 67.2MB/s]\u001b[A\u001b[A\n",
            "\n",
            "model-00001-of-00002.safetensors:  23% 1.16G/4.96G [00:35<00:54, 70.1MB/s]\u001b[A\u001b[A\n",
            "\n",
            "model-00001-of-00002.safetensors:  24% 1.18G/4.96G [00:35<01:32, 41.0MB/s]\u001b[A\u001b[A\n",
            "\n",
            "model-00001-of-00002.safetensors:  24% 1.20G/4.96G [00:36<01:46, 35.4MB/s]\u001b[A\u001b[A\n",
            "\n",
            "model-00001-of-00002.safetensors:  24% 1.21G/4.96G [00:36<01:41, 37.1MB/s]\u001b[A\u001b[A\n",
            "\n",
            "model-00001-of-00002.safetensors:  25% 1.22G/4.96G [00:36<01:32, 40.5MB/s]\u001b[A\u001b[A\n",
            "\n",
            "model-00001-of-00002.safetensors:  25% 1.23G/4.96G [00:37<01:55, 32.4MB/s]\u001b[A\u001b[A\n",
            "\n",
            "model-00001-of-00002.safetensors:  25% 1.24G/4.96G [00:37<02:15, 27.4MB/s]\u001b[A\u001b[A\n",
            "\n",
            "model-00001-of-00002.safetensors:  25% 1.25G/4.96G [00:38<01:53, 32.7MB/s]\u001b[A\u001b[A\n",
            "\n",
            "model-00001-of-00002.safetensors:  25% 1.26G/4.96G [00:38<01:32, 40.2MB/s]\u001b[A\u001b[A\n",
            "\n",
            "model-00001-of-00002.safetensors:  26% 1.27G/4.96G [00:38<02:03, 30.0MB/s]\u001b[A\u001b[A\n",
            "\n",
            "model-00001-of-00002.safetensors:  26% 1.28G/4.96G [00:39<02:59, 20.5MB/s]\u001b[A\u001b[A\n",
            "\n",
            "model-00001-of-00002.safetensors:  26% 1.29G/4.96G [00:40<03:12, 19.1MB/s]\u001b[A\u001b[A\n",
            "\n",
            "model-00001-of-00002.safetensors:  26% 1.30G/4.96G [00:41<03:35, 17.0MB/s]\u001b[A\u001b[A\n",
            "\n",
            "model-00001-of-00002.safetensors:  26% 1.31G/4.96G [00:41<02:47, 21.8MB/s]\u001b[A\u001b[A\n",
            "\n",
            "model-00001-of-00002.safetensors:  27% 1.33G/4.96G [00:41<02:31, 24.0MB/s]\u001b[A\u001b[A\n",
            "\n",
            "model-00001-of-00002.safetensors:  27% 1.34G/4.96G [00:42<02:40, 22.5MB/s]\u001b[A\u001b[A\n",
            "\n",
            "model-00001-of-00002.safetensors:  27% 1.35G/4.96G [00:43<02:57, 20.3MB/s]\u001b[A\u001b[A\n",
            "\n",
            "model-00001-of-00002.safetensors:  27% 1.36G/4.96G [00:44<03:34, 16.7MB/s]\u001b[A\u001b[A\n",
            "\n",
            "model-00001-of-00002.safetensors:  28% 1.37G/4.96G [00:44<03:08, 19.0MB/s]\u001b[A\u001b[A\n",
            "\n",
            "model-00001-of-00002.safetensors:  28% 1.38G/4.96G [00:44<02:29, 23.9MB/s]\u001b[A\u001b[A\n",
            "\n",
            "model-00001-of-00002.safetensors:  28% 1.41G/4.96G [00:45<01:56, 30.5MB/s]\u001b[A\u001b[A\n",
            "\n",
            "model-00001-of-00002.safetensors:  29% 1.42G/4.96G [00:46<02:54, 20.3MB/s]\u001b[A\u001b[A\n",
            "\n",
            "model-00001-of-00002.safetensors:  29% 1.43G/4.96G [00:47<03:32, 16.6MB/s]\u001b[A\u001b[A\n",
            "\n",
            "model-00001-of-00002.safetensors:  29% 1.44G/4.96G [00:47<03:01, 19.4MB/s]\u001b[A\u001b[A\n",
            "\n",
            "model-00001-of-00002.safetensors:  29% 1.45G/4.96G [00:47<02:28, 23.6MB/s]\u001b[A\u001b[A\n",
            "\n",
            "model-00001-of-00002.safetensors:  29% 1.46G/4.96G [00:48<02:30, 23.3MB/s]\u001b[A\u001b[A\n",
            "\n",
            "model-00001-of-00002.safetensors:  30% 1.47G/4.96G [00:48<02:57, 19.7MB/s]\u001b[A\u001b[A\n",
            "\n",
            "model-00001-of-00002.safetensors:  30% 1.49G/4.96G [00:48<01:45, 32.8MB/s]\u001b[A\u001b[A\n",
            "\n",
            "model-00001-of-00002.safetensors:  30% 1.50G/4.96G [00:49<02:01, 28.4MB/s]\u001b[A\u001b[A\n",
            "\n",
            "model-00001-of-00002.safetensors:  30% 1.51G/4.96G [00:49<02:01, 28.4MB/s]\u001b[A\u001b[A\n",
            "\n",
            "model-00001-of-00002.safetensors:  31% 1.52G/4.96G [00:49<01:48, 31.8MB/s]\u001b[A\u001b[A\n",
            "\n",
            "model-00001-of-00002.safetensors:  31% 1.53G/4.96G [00:50<01:36, 35.4MB/s]\u001b[A\u001b[A\n",
            "\n",
            "model-00001-of-00002.safetensors:  31% 1.54G/4.96G [00:50<01:22, 41.5MB/s]\u001b[A\u001b[A\n",
            "\n",
            "model-00001-of-00002.safetensors:  31% 1.55G/4.96G [00:50<01:10, 48.4MB/s]\u001b[A\u001b[A\n",
            "\n",
            "model-00001-of-00002.safetensors:  31% 1.56G/4.96G [00:50<01:11, 47.7MB/s]\u001b[A\u001b[A\n",
            "\n",
            "model-00001-of-00002.safetensors:  32% 1.58G/4.96G [00:50<00:56, 59.7MB/s]\u001b[A\u001b[A\n",
            "\n",
            "model-00001-of-00002.safetensors:  32% 1.59G/4.96G [00:51<01:04, 52.5MB/s]\u001b[A\u001b[A\n",
            "\n",
            "model-00001-of-00002.safetensors:  33% 1.61G/4.96G [00:51<00:47, 70.5MB/s]\u001b[A\u001b[A\n",
            "\n",
            "model-00001-of-00002.safetensors:  33% 1.64G/4.96G [00:51<00:37, 88.5MB/s]\u001b[A\u001b[A\n",
            "\n",
            "model-00001-of-00002.safetensors:  33% 1.66G/4.96G [00:51<00:30, 109MB/s] \u001b[A\u001b[A\n",
            "\n",
            "model-00001-of-00002.safetensors:  34% 1.68G/4.96G [00:51<00:34, 94.1MB/s]\u001b[A\u001b[A\n",
            "\n",
            "model-00001-of-00002.safetensors:  34% 1.70G/4.96G [00:52<01:12, 45.1MB/s]\u001b[A\u001b[A\n",
            "\n",
            "model-00001-of-00002.safetensors:  34% 1.71G/4.96G [00:53<01:13, 44.3MB/s]\u001b[A\u001b[A\n",
            "\n",
            "model-00001-of-00002.safetensors:  35% 1.72G/4.96G [00:53<01:45, 30.6MB/s]\u001b[A\u001b[A\n",
            "\n",
            "model-00001-of-00002.safetensors:  35% 1.73G/4.96G [00:54<01:33, 34.4MB/s]\u001b[A\u001b[A\n",
            "\n",
            "model-00001-of-00002.safetensors:  35% 1.74G/4.96G [00:54<02:19, 23.0MB/s]\u001b[A\u001b[A\n",
            "\n",
            "model-00001-of-00002.safetensors:  36% 1.76G/4.96G [00:55<01:34, 33.9MB/s]\u001b[A\u001b[A\n",
            "\n",
            "model-00001-of-00002.safetensors:  36% 1.78G/4.96G [00:55<01:07, 46.8MB/s]\u001b[A\u001b[A\n",
            "\n",
            "model-00001-of-00002.safetensors:  36% 1.79G/4.96G [00:55<01:20, 39.5MB/s]\u001b[A\u001b[A\n",
            "\n",
            "model-00001-of-00002.safetensors:  36% 1.80G/4.96G [00:56<01:31, 34.6MB/s]\u001b[A\u001b[A\n",
            "\n",
            "model-00001-of-00002.safetensors:  37% 1.81G/4.96G [00:56<01:18, 40.1MB/s]\u001b[A\u001b[A\n",
            "\n",
            "model-00001-of-00002.safetensors:  37% 1.82G/4.96G [00:56<01:11, 43.7MB/s]\u001b[A\u001b[A\n",
            "\n",
            "model-00001-of-00002.safetensors:  37% 1.84G/4.96G [00:56<01:05, 47.7MB/s]\u001b[A\u001b[A\n",
            "\n",
            "model-00001-of-00002.safetensors:  37% 1.85G/4.96G [00:56<00:57, 54.0MB/s]\u001b[A\u001b[A\n",
            "\n",
            "model-00001-of-00002.safetensors:  37% 1.86G/4.96G [00:56<00:50, 62.0MB/s]\u001b[A\u001b[A\n",
            "\n",
            "model-00001-of-00002.safetensors:  38% 1.87G/4.96G [00:57<01:15, 40.9MB/s]\u001b[A\u001b[A\n",
            "\n",
            "model-00001-of-00002.safetensors:  38% 1.88G/4.96G [00:57<01:03, 48.7MB/s]\u001b[A\u001b[A\n",
            "\n",
            "model-00001-of-00002.safetensors:  38% 1.90G/4.96G [00:57<00:43, 69.7MB/s]\u001b[A\u001b[A\n",
            "\n",
            "model-00001-of-00002.safetensors:  38% 1.91G/4.96G [00:58<01:01, 49.3MB/s]\u001b[A\u001b[A\n",
            "\n",
            "model-00001-of-00002.safetensors:  39% 1.92G/4.96G [00:58<01:32, 32.8MB/s]\u001b[A\u001b[A\n",
            "\n",
            "model-00001-of-00002.safetensors:  39% 1.93G/4.96G [00:58<01:25, 35.3MB/s]\u001b[A\u001b[A\n",
            "\n",
            "model-00001-of-00002.safetensors:  39% 1.94G/4.96G [00:59<01:32, 32.8MB/s]\u001b[A\u001b[A\n",
            "\n",
            "model-00001-of-00002.safetensors:  39% 1.95G/4.96G [00:59<01:16, 39.1MB/s]\u001b[A\u001b[A\n",
            "\n",
            "model-00001-of-00002.safetensors:  40% 1.96G/4.96G [00:59<01:08, 44.1MB/s]\u001b[A\u001b[A\n",
            "\n",
            "model-00001-of-00002.safetensors:  40% 1.98G/4.96G [00:59<00:49, 60.1MB/s]\u001b[A\u001b[A\n",
            "\n",
            "model-00001-of-00002.safetensors:  40% 2.00G/4.96G [01:00<00:59, 49.7MB/s]\u001b[A\u001b[A\n",
            "\n",
            "model-00001-of-00002.safetensors:  41% 2.01G/4.96G [01:00<01:09, 42.6MB/s]\u001b[A\u001b[A\n",
            "\n",
            "model-00001-of-00002.safetensors:  41% 2.02G/4.96G [01:01<01:35, 30.8MB/s]\u001b[A\u001b[A\n",
            "\n",
            "model-00001-of-00002.safetensors:  41% 2.03G/4.96G [01:01<01:49, 26.6MB/s]\u001b[A\u001b[A\n",
            "\n",
            "model-00001-of-00002.safetensors:  41% 2.06G/4.96G [01:02<01:10, 41.1MB/s]\u001b[A\u001b[A\n",
            "\n",
            "model-00001-of-00002.safetensors:  42% 2.08G/4.96G [01:02<00:53, 53.9MB/s]\u001b[A\u001b[A\n",
            "\n",
            "model-00001-of-00002.safetensors:  42% 2.09G/4.96G [01:02<00:48, 59.4MB/s]\u001b[A\u001b[A\n",
            "\n",
            "model-00001-of-00002.safetensors:  42% 2.11G/4.96G [01:02<00:36, 77.6MB/s]\u001b[A\u001b[A\n",
            "\n",
            "model-00001-of-00002.safetensors:  43% 2.13G/4.96G [01:02<00:30, 93.6MB/s]\u001b[A\u001b[A\n",
            "\n",
            "model-00001-of-00002.safetensors:  43% 2.15G/4.96G [01:02<00:25, 110MB/s] \u001b[A\u001b[A\n",
            "\n",
            "model-00001-of-00002.safetensors:  44% 2.17G/4.96G [01:03<00:39, 70.3MB/s]\u001b[A\u001b[A\n",
            "\n",
            "model-00001-of-00002.safetensors:  44% 2.19G/4.96G [01:04<01:01, 45.0MB/s]\u001b[A\u001b[A\n",
            "\n",
            "model-00001-of-00002.safetensors:  44% 2.20G/4.96G [01:04<00:55, 49.9MB/s]\u001b[A\u001b[A\n",
            "\n",
            "model-00001-of-00002.safetensors:  45% 2.21G/4.96G [01:04<01:04, 42.9MB/s]\u001b[A\u001b[A\n",
            "\n",
            "model-00001-of-00002.safetensors:  45% 2.22G/4.96G [01:05<01:42, 26.6MB/s]\u001b[A\u001b[A\n",
            "\n",
            "model-00001-of-00002.safetensors:  45% 2.24G/4.96G [01:05<01:08, 40.0MB/s]\u001b[A\u001b[A\n",
            "\n",
            "model-00001-of-00002.safetensors:  46% 2.26G/4.96G [01:06<01:48, 24.9MB/s]\u001b[A\u001b[A\n",
            "\n",
            "model-00001-of-00002.safetensors:  46% 2.28G/4.96G [01:07<02:01, 22.1MB/s]\u001b[A\u001b[A\n",
            "\n",
            "model-00001-of-00002.safetensors:  46% 2.29G/4.96G [01:07<01:43, 25.9MB/s]\u001b[A\u001b[A\n",
            "\n",
            "model-00001-of-00002.safetensors:  46% 2.30G/4.96G [01:07<01:23, 31.7MB/s]\u001b[A\u001b[A\n",
            "\n",
            "model-00001-of-00002.safetensors:  46% 2.31G/4.96G [01:08<01:12, 36.8MB/s]\u001b[A\u001b[A\n",
            "\n",
            "model-00001-of-00002.safetensors:  47% 2.33G/4.96G [01:08<00:48, 54.0MB/s]\u001b[A\u001b[A\n",
            "\n",
            "model-00001-of-00002.safetensors:  47% 2.35G/4.96G [01:08<00:35, 72.7MB/s]\u001b[A\u001b[A\n",
            "\n",
            "model-00001-of-00002.safetensors:  48% 2.37G/4.96G [01:08<00:28, 91.5MB/s]\u001b[A\u001b[A\n",
            "\n",
            "model-00001-of-00002.safetensors:  48% 2.39G/4.96G [01:08<00:23, 109MB/s] \u001b[A\u001b[A\n",
            "\n",
            "model-00001-of-00002.safetensors:  49% 2.41G/4.96G [01:08<00:27, 92.8MB/s]\u001b[A\u001b[A\n",
            "\n",
            "model-00001-of-00002.safetensors:  49% 2.43G/4.96G [01:09<00:30, 81.9MB/s]\u001b[A\u001b[A\n",
            "\n",
            "model-00001-of-00002.safetensors:  49% 2.45G/4.96G [01:09<00:26, 93.4MB/s]\u001b[A\u001b[A\n",
            "\n",
            "model-00001-of-00002.safetensors:  50% 2.47G/4.96G [01:09<00:31, 79.2MB/s]\u001b[A\u001b[A\n",
            "\n",
            "model-00001-of-00002.safetensors:  50% 2.49G/4.96G [01:09<00:38, 64.7MB/s]\u001b[A\u001b[A\n",
            "\n",
            "model-00001-of-00002.safetensors:  50% 2.50G/4.96G [01:10<00:37, 66.3MB/s]\u001b[A\u001b[A\n",
            "\n",
            "model-00001-of-00002.safetensors:  51% 2.52G/4.96G [01:10<00:29, 83.9MB/s]\u001b[A\u001b[A\n",
            "\n",
            "model-00001-of-00002.safetensors:  51% 2.54G/4.96G [01:10<00:24, 101MB/s] \u001b[A\u001b[A\n",
            "\n",
            "model-00001-of-00002.safetensors:  52% 2.56G/4.96G [01:10<00:21, 110MB/s]\u001b[A\u001b[A\n",
            "\n",
            "model-00001-of-00002.safetensors:  52% 2.58G/4.96G [01:10<00:19, 123MB/s]\u001b[A\u001b[A\n",
            "\n",
            "model-00001-of-00002.safetensors:  52% 2.60G/4.96G [01:10<00:18, 129MB/s]\u001b[A\u001b[A\n",
            "\n",
            "model-00001-of-00002.safetensors:  53% 2.62G/4.96G [01:10<00:18, 128MB/s]\u001b[A\u001b[A\n",
            "\n",
            "model-00001-of-00002.safetensors:  53% 2.65G/4.96G [01:11<00:15, 151MB/s]\u001b[A\u001b[A\n",
            "\n",
            "model-00001-of-00002.safetensors:  54% 2.67G/4.96G [01:11<00:14, 162MB/s]\u001b[A\u001b[A\n",
            "\n",
            "model-00001-of-00002.safetensors:  54% 2.69G/4.96G [01:11<00:13, 173MB/s]\u001b[A\u001b[A\n",
            "\n",
            "model-00001-of-00002.safetensors:  55% 2.72G/4.96G [01:11<00:13, 165MB/s]\u001b[A\u001b[A\n",
            "\n",
            "model-00001-of-00002.safetensors:  55% 2.74G/4.96G [01:11<00:13, 164MB/s]\u001b[A\u001b[A\n",
            "\n",
            "model-00001-of-00002.safetensors:  56% 2.76G/4.96G [01:12<00:25, 87.8MB/s]\u001b[A\u001b[A\n",
            "\n",
            "model-00001-of-00002.safetensors:  56% 2.78G/4.96G [01:12<00:25, 86.4MB/s]\u001b[A\u001b[A\n",
            "\n",
            "model-00001-of-00002.safetensors:  56% 2.80G/4.96G [01:12<00:22, 94.9MB/s]\u001b[A\u001b[A\n",
            "\n",
            "model-00001-of-00002.safetensors:  57% 2.82G/4.96G [01:12<00:28, 74.9MB/s]\u001b[A\u001b[A\n",
            "\n",
            "model-00001-of-00002.safetensors:  57% 2.83G/4.96G [01:13<00:34, 61.2MB/s]\u001b[A\u001b[A\n",
            "\n",
            "model-00001-of-00002.safetensors:  57% 2.84G/4.96G [01:13<00:32, 65.6MB/s]\u001b[A\u001b[A\n",
            "\n",
            "model-00001-of-00002.safetensors:  58% 2.86G/4.96G [01:13<00:26, 80.3MB/s]\u001b[A\u001b[A\n",
            "\n",
            "model-00001-of-00002.safetensors:  58% 2.88G/4.96G [01:13<00:28, 72.4MB/s]\u001b[A\u001b[A\n",
            "\n",
            "model-00001-of-00002.safetensors:  58% 2.89G/4.96G [01:14<00:29, 70.0MB/s]\u001b[A\u001b[A\n",
            "\n",
            "model-00001-of-00002.safetensors:  59% 2.90G/4.96G [01:14<00:30, 67.8MB/s]\u001b[A\u001b[A\n",
            "\n",
            "model-00001-of-00002.safetensors:  59% 2.93G/4.96G [01:14<00:25, 80.4MB/s]\u001b[A\u001b[A\n",
            "\n",
            "model-00001-of-00002.safetensors:  59% 2.95G/4.96G [01:14<00:22, 88.8MB/s]\u001b[A\u001b[A\n",
            "\n",
            "model-00001-of-00002.safetensors:  60% 2.96G/4.96G [01:15<00:56, 35.3MB/s]\u001b[A\u001b[A\n",
            "\n",
            "model-00001-of-00002.safetensors:  60% 2.98G/4.96G [01:15<00:40, 48.5MB/s]\u001b[A\u001b[A\n",
            "\n",
            "model-00001-of-00002.safetensors:  60% 3.00G/4.96G [01:15<00:31, 61.4MB/s]\u001b[A\u001b[A\n",
            "\n",
            "model-00001-of-00002.safetensors:  61% 3.02G/4.96G [01:16<00:28, 68.3MB/s]\u001b[A\u001b[A\n",
            "\n",
            "model-00001-of-00002.safetensors:  61% 3.04G/4.96G [01:16<00:24, 79.8MB/s]\u001b[A\u001b[A\n",
            "\n",
            "model-00001-of-00002.safetensors:  62% 3.06G/4.96G [01:16<00:24, 76.5MB/s]\u001b[A\u001b[A\n",
            "\n",
            "model-00001-of-00002.safetensors:  62% 3.07G/4.96G [01:16<00:28, 65.9MB/s]\u001b[A\u001b[A\n",
            "\n",
            "model-00001-of-00002.safetensors:  62% 3.08G/4.96G [01:17<00:30, 61.9MB/s]\u001b[A\u001b[A\n",
            "\n",
            "model-00001-of-00002.safetensors:  62% 3.09G/4.96G [01:17<00:29, 63.3MB/s]\u001b[A\u001b[A\n",
            "\n",
            "model-00001-of-00002.safetensors:  63% 3.10G/4.96G [01:17<00:27, 66.9MB/s]\u001b[A\u001b[A\n",
            "\n",
            "model-00001-of-00002.safetensors:  63% 3.11G/4.96G [01:17<00:26, 69.4MB/s]\u001b[A\u001b[A\n",
            "\n",
            "model-00001-of-00002.safetensors:  63% 3.12G/4.96G [01:17<00:25, 70.7MB/s]\u001b[A\u001b[A\n",
            "\n",
            "model-00001-of-00002.safetensors:  63% 3.14G/4.96G [01:17<00:23, 77.7MB/s]\u001b[A\u001b[A\n",
            "\n",
            "model-00001-of-00002.safetensors:  64% 3.16G/4.96G [01:17<00:18, 95.1MB/s]\u001b[A\u001b[A\n",
            "\n",
            "model-00001-of-00002.safetensors:  64% 3.18G/4.96G [01:18<00:16, 108MB/s] \u001b[A\u001b[A\n",
            "\n",
            "model-00001-of-00002.safetensors:  64% 3.20G/4.96G [01:18<00:20, 84.1MB/s]\u001b[A\u001b[A\n",
            "\n",
            "model-00001-of-00002.safetensors:  65% 3.22G/4.96G [01:18<00:19, 89.8MB/s]\u001b[A\u001b[A\n",
            "\n",
            "model-00001-of-00002.safetensors:  65% 3.24G/4.96G [01:18<00:17, 99.7MB/s]\u001b[A\u001b[A\n",
            "\n",
            "model-00001-of-00002.safetensors:  66% 3.26G/4.96G [01:19<00:22, 75.4MB/s]\u001b[A\u001b[A\n",
            "\n",
            "model-00001-of-00002.safetensors:  66% 3.27G/4.96G [01:19<00:21, 78.8MB/s]\u001b[A\u001b[A\n",
            "\n",
            "model-00001-of-00002.safetensors:  66% 3.29G/4.96G [01:19<00:19, 85.9MB/s]\u001b[A\u001b[A\n",
            "\n",
            "model-00001-of-00002.safetensors:  67% 3.31G/4.96G [01:19<00:17, 95.6MB/s]\u001b[A\u001b[A\n",
            "\n",
            "model-00001-of-00002.safetensors:  67% 3.32G/4.96G [01:19<00:18, 89.7MB/s]\u001b[A\u001b[A\n",
            "\n",
            "model-00001-of-00002.safetensors:  67% 3.34G/4.96G [01:20<00:17, 93.9MB/s]\u001b[A\u001b[A\n",
            "\n",
            "model-00001-of-00002.safetensors:  68% 3.37G/4.96G [01:20<00:15, 102MB/s] \u001b[A\u001b[A\n",
            "\n",
            "model-00001-of-00002.safetensors:  68% 3.38G/4.96G [01:20<00:24, 66.0MB/s]\u001b[A\u001b[A\n",
            "\n",
            "model-00001-of-00002.safetensors:  68% 3.40G/4.96G [01:20<00:19, 81.6MB/s]\u001b[A\u001b[A\n",
            "\n",
            "model-00001-of-00002.safetensors:  69% 3.41G/4.96G [01:20<00:19, 79.7MB/s]\u001b[A\u001b[A\n",
            "\n",
            "model-00001-of-00002.safetensors:  69% 3.42G/4.96G [01:21<00:22, 67.2MB/s]\u001b[A\u001b[A\n",
            "\n",
            "model-00001-of-00002.safetensors:  69% 3.44G/4.96G [01:21<00:20, 75.0MB/s]\u001b[A\u001b[A\n",
            "\n",
            "model-00001-of-00002.safetensors:  70% 3.45G/4.96G [01:21<00:22, 66.4MB/s]\u001b[A\u001b[A\n",
            "\n",
            "model-00001-of-00002.safetensors:  70% 3.47G/4.96G [01:21<00:22, 67.0MB/s]\u001b[A\u001b[A\n",
            "\n",
            "model-00001-of-00002.safetensors:  70% 3.48G/4.96G [01:22<00:24, 59.9MB/s]\u001b[A\u001b[A\n",
            "\n",
            "model-00001-of-00002.safetensors:  71% 3.50G/4.96G [01:22<00:19, 75.7MB/s]\u001b[A\u001b[A\n",
            "\n",
            "model-00001-of-00002.safetensors:  71% 3.51G/4.96G [01:22<00:19, 75.1MB/s]\u001b[A\u001b[A\n",
            "\n",
            "model-00001-of-00002.safetensors:  71% 3.53G/4.96G [01:22<00:15, 89.4MB/s]\u001b[A\u001b[A\n",
            "\n",
            "model-00001-of-00002.safetensors:  72% 3.55G/4.96G [01:22<00:13, 106MB/s] \u001b[A\u001b[A\n",
            "\n",
            "model-00001-of-00002.safetensors:  72% 3.58G/4.96G [01:22<00:11, 119MB/s]\u001b[A\u001b[A\n",
            "\n",
            "model-00001-of-00002.safetensors:  72% 3.60G/4.96G [01:23<00:15, 89.2MB/s]\u001b[A\u001b[A\n",
            "\n",
            "model-00001-of-00002.safetensors:  73% 3.62G/4.96G [01:23<00:12, 106MB/s] \u001b[A\u001b[A\n",
            "\n",
            "model-00001-of-00002.safetensors:  74% 3.65G/4.96G [01:23<00:09, 134MB/s]\u001b[A\u001b[A\n",
            "\n",
            "model-00001-of-00002.safetensors:  74% 3.68G/4.96G [01:23<00:08, 155MB/s]\u001b[A\u001b[A\n",
            "\n",
            "model-00001-of-00002.safetensors:  75% 3.71G/4.96G [01:23<00:07, 171MB/s]\u001b[A\u001b[A\n",
            "\n",
            "model-00001-of-00002.safetensors:  75% 3.73G/4.96G [01:23<00:07, 167MB/s]\u001b[A\u001b[A\n",
            "\n",
            "model-00001-of-00002.safetensors:  76% 3.75G/4.96G [01:24<00:09, 127MB/s]\u001b[A\u001b[A\n",
            "\n",
            "model-00001-of-00002.safetensors:  76% 3.77G/4.96G [01:24<00:09, 127MB/s]\u001b[A\u001b[A\n",
            "\n",
            "model-00001-of-00002.safetensors:  77% 3.80G/4.96G [01:24<00:08, 138MB/s]\u001b[A\u001b[A\n",
            "\n",
            "model-00001-of-00002.safetensors:  77% 3.82G/4.96G [01:25<00:14, 80.4MB/s]\u001b[A\u001b[A\n",
            "\n",
            "model-00001-of-00002.safetensors:  77% 3.84G/4.96G [01:25<00:22, 51.0MB/s]\u001b[A\u001b[A\n",
            "\n",
            "model-00001-of-00002.safetensors:  78% 3.86G/4.96G [01:25<00:17, 62.0MB/s]\u001b[A\u001b[A\n",
            "\n",
            "model-00001-of-00002.safetensors:  78% 3.88G/4.96G [01:26<00:14, 74.1MB/s]\u001b[A\u001b[A\n",
            "\n",
            "model-00001-of-00002.safetensors:  79% 3.90G/4.96G [01:26<00:19, 55.0MB/s]\u001b[A\u001b[A\n",
            "\n",
            "model-00001-of-00002.safetensors:  79% 3.91G/4.96G [01:26<00:18, 56.5MB/s]\u001b[A\u001b[A\n",
            "\n",
            "model-00001-of-00002.safetensors:  79% 3.92G/4.96G [01:26<00:16, 62.1MB/s]\u001b[A\u001b[A\n",
            "\n",
            "model-00001-of-00002.safetensors:  79% 3.93G/4.96G [01:27<00:15, 64.7MB/s]\u001b[A\u001b[A\n",
            "\n",
            "model-00001-of-00002.safetensors:  79% 3.94G/4.96G [01:27<00:15, 66.1MB/s]\u001b[A\u001b[A\n",
            "\n",
            "model-00001-of-00002.safetensors:  80% 3.95G/4.96G [01:27<00:19, 52.9MB/s]\u001b[A\u001b[A\n",
            "\n",
            "model-00001-of-00002.safetensors:  80% 3.97G/4.96G [01:27<00:13, 73.5MB/s]\u001b[A\u001b[A\n",
            "\n",
            "model-00001-of-00002.safetensors:  81% 4.00G/4.96G [01:27<00:10, 94.3MB/s]\u001b[A\u001b[A\n",
            "\n",
            "model-00001-of-00002.safetensors:  81% 4.02G/4.96G [01:27<00:08, 115MB/s] \u001b[A\u001b[A\n",
            "\n",
            "model-00001-of-00002.safetensors:  81% 4.04G/4.96G [01:28<00:07, 131MB/s]\u001b[A\u001b[A\n",
            "\n",
            "model-00001-of-00002.safetensors:  82% 4.06G/4.96G [01:28<00:07, 115MB/s]\u001b[A\u001b[A\n",
            "\n",
            "model-00001-of-00002.safetensors:  82% 4.08G/4.96G [01:28<00:07, 120MB/s]\u001b[A\u001b[A\n",
            "\n",
            "model-00001-of-00002.safetensors:  83% 4.10G/4.96G [01:28<00:06, 135MB/s]\u001b[A\u001b[A\n",
            "\n",
            "model-00001-of-00002.safetensors:  83% 4.12G/4.96G [01:28<00:06, 132MB/s]\u001b[A\u001b[A\n",
            "\n",
            "model-00001-of-00002.safetensors:  83% 4.14G/4.96G [01:28<00:05, 143MB/s]\u001b[A\u001b[A\n",
            "\n",
            "model-00001-of-00002.safetensors:  84% 4.16G/4.96G [01:28<00:05, 151MB/s]\u001b[A\u001b[A\n",
            "\n",
            "model-00001-of-00002.safetensors:  84% 4.18G/4.96G [01:29<00:13, 56.6MB/s]\u001b[A\u001b[A\n",
            "\n",
            "model-00001-of-00002.safetensors:  85% 4.20G/4.96G [01:30<00:14, 51.1MB/s]\u001b[A\u001b[A\n",
            "\n",
            "model-00001-of-00002.safetensors:  85% 4.22G/4.96G [01:30<00:14, 52.5MB/s]\u001b[A\u001b[A\n",
            "\n",
            "model-00001-of-00002.safetensors:  85% 4.23G/4.96G [01:30<00:13, 53.9MB/s]\u001b[A\u001b[A\n",
            "\n",
            "model-00001-of-00002.safetensors:  85% 4.24G/4.96G [01:30<00:14, 50.4MB/s]\u001b[A\u001b[A\n",
            "\n",
            "model-00001-of-00002.safetensors:  86% 4.26G/4.96G [01:31<00:10, 67.1MB/s]\u001b[A\u001b[A\n",
            "\n",
            "model-00001-of-00002.safetensors:  86% 4.28G/4.96G [01:31<00:08, 85.2MB/s]\u001b[A\u001b[A\n",
            "\n",
            "model-00001-of-00002.safetensors:  87% 4.30G/4.96G [01:31<00:06, 102MB/s] \u001b[A\u001b[A\n",
            "\n",
            "model-00001-of-00002.safetensors:  87% 4.33G/4.96G [01:31<00:04, 129MB/s]\u001b[A\u001b[A\n",
            "\n",
            "model-00001-of-00002.safetensors:  88% 4.35G/4.96G [01:31<00:05, 107MB/s]\u001b[A\u001b[A\n",
            "\n",
            "model-00001-of-00002.safetensors:  88% 4.37G/4.96G [01:32<00:06, 84.4MB/s]\u001b[A\u001b[A\n",
            "\n",
            "model-00001-of-00002.safetensors:  89% 4.39G/4.96G [01:33<00:13, 42.9MB/s]\u001b[A\u001b[A\n",
            "\n",
            "model-00001-of-00002.safetensors:  89% 4.41G/4.96G [01:33<00:10, 53.5MB/s]\u001b[A\u001b[A\n",
            "\n",
            "model-00001-of-00002.safetensors:  89% 4.44G/4.96G [01:33<00:07, 66.2MB/s]\u001b[A\u001b[A\n",
            "\n",
            "model-00001-of-00002.safetensors:  90% 4.46G/4.96G [01:33<00:08, 60.3MB/s]\u001b[A\u001b[A\n",
            "\n",
            "model-00001-of-00002.safetensors:  90% 4.48G/4.96G [01:34<00:06, 72.5MB/s]\u001b[A\u001b[A\n",
            "\n",
            "model-00001-of-00002.safetensors:  91% 4.50G/4.96G [01:34<00:05, 78.9MB/s]\u001b[A\u001b[A\n",
            "\n",
            "model-00001-of-00002.safetensors:  91% 4.52G/4.96G [01:34<00:04, 88.5MB/s]\u001b[A\u001b[A\n",
            "\n",
            "model-00001-of-00002.safetensors:  92% 4.54G/4.96G [01:34<00:05, 81.5MB/s]\u001b[A\u001b[A\n",
            "\n",
            "model-00001-of-00002.safetensors:  92% 4.55G/4.96G [01:35<00:05, 75.5MB/s]\u001b[A\u001b[A\n",
            "\n",
            "model-00001-of-00002.safetensors:  92% 4.56G/4.96G [01:35<00:05, 68.8MB/s]\u001b[A\u001b[A\n",
            "\n",
            "model-00001-of-00002.safetensors:  92% 4.58G/4.96G [01:35<00:04, 79.8MB/s]\u001b[A\u001b[A\n",
            "\n",
            "model-00001-of-00002.safetensors:  93% 4.60G/4.96G [01:35<00:03, 98.4MB/s]\u001b[A\u001b[A\n",
            "\n",
            "model-00001-of-00002.safetensors:  93% 4.62G/4.96G [01:35<00:02, 114MB/s] \u001b[A\u001b[A\n",
            "\n",
            "model-00001-of-00002.safetensors:  94% 4.65G/4.96G [01:35<00:02, 116MB/s]\u001b[A\u001b[A\n",
            "\n",
            "model-00001-of-00002.safetensors:  94% 4.67G/4.96G [01:35<00:02, 131MB/s]\u001b[A\u001b[A\n",
            "\n",
            "model-00001-of-00002.safetensors:  94% 4.69G/4.96G [01:36<00:01, 144MB/s]\u001b[A\u001b[A\n",
            "\n",
            "model-00001-of-00002.safetensors:  95% 4.71G/4.96G [01:36<00:02, 122MB/s]\u001b[A\u001b[A\n",
            "\n",
            "model-00001-of-00002.safetensors:  95% 4.73G/4.96G [01:36<00:01, 118MB/s]\u001b[A\u001b[A\n",
            "\n",
            "model-00001-of-00002.safetensors:  96% 4.75G/4.96G [01:36<00:01, 132MB/s]\u001b[A\u001b[A\n",
            "\n",
            "model-00001-of-00002.safetensors:  96% 4.77G/4.96G [01:36<00:01, 139MB/s]\u001b[A\u001b[A\n",
            "\n",
            "model-00001-of-00002.safetensors:  97% 4.79G/4.96G [01:36<00:01, 135MB/s]\u001b[A\u001b[A\n",
            "\n",
            "model-00001-of-00002.safetensors:  97% 4.81G/4.96G [01:37<00:01, 144MB/s]\u001b[A\u001b[A\n",
            "\n",
            "model-00001-of-00002.safetensors:  97% 4.83G/4.96G [01:37<00:01, 88.8MB/s]\u001b[A\u001b[A\n",
            "\n",
            "model-00001-of-00002.safetensors:  98% 4.85G/4.96G [01:37<00:01, 102MB/s] \u001b[A\u001b[A\n",
            "\n",
            "model-00001-of-00002.safetensors:  98% 4.88G/4.96G [01:37<00:00, 113MB/s]\u001b[A\u001b[A\n",
            "\n",
            "model-00001-of-00002.safetensors:  99% 4.90G/4.96G [01:38<00:01, 59.8MB/s]\u001b[A\u001b[A\n",
            "\n",
            "model-00001-of-00002.safetensors:  99% 4.92G/4.96G [01:39<00:00, 48.7MB/s]\u001b[A\u001b[A\n",
            "\n",
            "model-00001-of-00002.safetensors: 100% 4.94G/4.96G [01:39<00:00, 60.3MB/s]\u001b[A\u001b[A\n",
            "\n",
            "model-00001-of-00002.safetensors: 100% 4.96G/4.96G [01:39<00:00, 49.9MB/s]\n",
            "Fetching 2 files: 100% 2/2 [01:40<00:00, 50.32s/it] \n",
            "Loading checkpoint shards: 100% 2/2 [00:00<00:00,  2.08it/s]\n",
            "generation_config.json: 100% 215/215 [00:00<00:00, 1.64MB/s]\n",
            "tokenizer_config.json: 100% 1.16M/1.16M [00:00<00:00, 5.41MB/s]\n",
            "tokenizer.model: 100% 4.69M/4.69M [00:00<00:00, 39.8MB/s]\n",
            "tokenizer.json: 100% 33.4M/33.4M [00:00<00:00, 121MB/s] \n",
            "added_tokens.json: 100% 35.0/35.0 [00:00<00:00, 263kB/s]\n",
            "special_tokens_map.json: 100% 662/662 [00:00<00:00, 5.04MB/s]\n",
            "Device set to use cuda\n",
            "2025-04-30 02:58:33.334 Examining the path of torch.classes raised:\n",
            "Traceback (most recent call last):\n",
            "  File \"/usr/local/lib/python3.11/dist-packages/streamlit/web/bootstrap.py\", line 347, in run\n",
            "    if asyncio.get_running_loop().is_running():\n",
            "       ^^^^^^^^^^^^^^^^^^^^^^^^^^\n",
            "RuntimeError: no running event loop\n",
            "\n",
            "During handling of the above exception, another exception occurred:\n",
            "\n",
            "Traceback (most recent call last):\n",
            "  File \"/usr/local/lib/python3.11/dist-packages/streamlit/watcher/local_sources_watcher.py\", line 217, in get_module_paths\n",
            "    potential_paths = extract_paths(module)\n",
            "                      ^^^^^^^^^^^^^^^^^^^^^\n",
            "  File \"/usr/local/lib/python3.11/dist-packages/streamlit/watcher/local_sources_watcher.py\", line 210, in <lambda>\n",
            "    lambda m: list(m.__path__._path),\n",
            "                   ^^^^^^^^^^^^^^^^\n",
            "  File \"/usr/local/lib/python3.11/dist-packages/torch/_classes.py\", line 13, in __getattr__\n",
            "    proxy = torch._C._get_custom_class_python_wrapper(self.name, attr)\n",
            "            ^^^^^^^^^^^^^^^^^^^^^^^^^^^^^^^^^^^^^^^^^^^^^^^^^^^^^^^^^^\n",
            "RuntimeError: Tried to instantiate class '__path__._path', but it does not exist! Ensure that it is registered via torch::class_\n",
            "NLTK Punkt data checked/downloaded.\n",
            "Database 'chat_feedback.db' initialized successfully.\n",
            "2025-04-30 02:59:27.151 Examining the path of torch.classes raised:\n",
            "Traceback (most recent call last):\n",
            "  File \"/usr/local/lib/python3.11/dist-packages/streamlit/web/bootstrap.py\", line 347, in run\n",
            "    if asyncio.get_running_loop().is_running():\n",
            "       ^^^^^^^^^^^^^^^^^^^^^^^^^^\n",
            "RuntimeError: no running event loop\n",
            "\n",
            "During handling of the above exception, another exception occurred:\n",
            "\n",
            "Traceback (most recent call last):\n",
            "  File \"/usr/local/lib/python3.11/dist-packages/streamlit/watcher/local_sources_watcher.py\", line 217, in get_module_paths\n",
            "    potential_paths = extract_paths(module)\n",
            "                      ^^^^^^^^^^^^^^^^^^^^^\n",
            "  File \"/usr/local/lib/python3.11/dist-packages/streamlit/watcher/local_sources_watcher.py\", line 210, in <lambda>\n",
            "    lambda m: list(m.__path__._path),\n",
            "                   ^^^^^^^^^^^^^^^^\n",
            "  File \"/usr/local/lib/python3.11/dist-packages/torch/_classes.py\", line 13, in __getattr__\n",
            "    proxy = torch._C._get_custom_class_python_wrapper(self.name, attr)\n",
            "            ^^^^^^^^^^^^^^^^^^^^^^^^^^^^^^^^^^^^^^^^^^^^^^^^^^^^^^^^^^\n",
            "RuntimeError: Tried to instantiate class '__path__._path', but it does not exist! Ensure that it is registered via torch::class_\n",
            "\u001b[34m  Stopping...\u001b[0m\n",
            "\u001b[34m  Stopping...\u001b[0m\n"
          ]
        }
      ],
      "source": [
        "from pyngrok import ngrok\n",
        "\n",
        "public_url = ngrok.connect(8501).public_url\n",
        "print(f\"公開URL: {public_url}\")\n",
        "!streamlit run app.py"
      ]
    },
    {
      "cell_type": "markdown",
      "metadata": {
        "id": "xcxn368_4JDh"
      },
      "source": [
        "アプリケーションの機能としては、チャット機能や履歴閲覧があります。\n",
        "\n",
        "これらの機能を実現するためには、StreamlitによるUI部分だけではなく、SQLiteを使用したチャット履歴の保存やLLMのモデルを呼び出した推論などの処理を組み合わせることで実現しています。\n",
        "\n",
        "- **`app.py`**: アプリケーションのエントリーポイント。チャット機能、履歴閲覧、サンプルデータ管理のUIを提供します。\n",
        "- **`ui.py`**: チャットページや履歴閲覧ページなど、アプリケーションのUIロジックを管理します。\n",
        "- **`llm.py`**: LLMモデルのロードとテキスト生成を行うモジュール。\n",
        "- **`database.py`**: SQLiteデータベースを使用してチャット履歴やフィードバックを保存・管理します。\n",
        "- **`metrics.py`**: BLEUスコアやコサイン類似度など、回答の評価指標を計算するモジュール。\n",
        "- **`data.py`**: サンプルデータの作成やデータベースの初期化を行うモジュール。\n",
        "- **`config.py`**: アプリケーションの設定（モデル名やデータベースファイル名）を管理します。\n",
        "- **`requirements.txt`**: このアプリケーションを実行するために必要なPythonパッケージ。"
      ]
    },
    {
      "cell_type": "markdown",
      "metadata": {
        "id": "Xvm8sWFPELSP"
      },
      "source": [
        "後片付けとして、使う必要のないngrokのトンネルを削除します。"
      ]
    },
    {
      "cell_type": "code",
      "execution_count": 16,
      "metadata": {
        "id": "WFJC2TmZELSP"
      },
      "outputs": [],
      "source": [
        "from pyngrok import ngrok\n",
        "ngrok.kill()"
      ]
    },
    {
      "cell_type": "markdown",
      "metadata": {
        "id": "rUXhIzV7ELSP"
      },
      "source": [
        "# 03_FastAPI\n",
        "\n",
        "ディレクトリ「03_FastAPI」に移動します。"
      ]
    },
    {
      "cell_type": "code",
      "execution_count": 17,
      "metadata": {
        "id": "4ejjDLxr3kfC",
        "colab": {
          "base_uri": "https://localhost:8080/"
        },
        "outputId": "b7fddfee-c10e-44ea-ecb5-6be603e7fb25"
      },
      "outputs": [
        {
          "output_type": "stream",
          "name": "stdout",
          "text": [
            "/content/lecture-ai-engineering/day1/03_FastAPI\n"
          ]
        }
      ],
      "source": [
        "%cd /content/lecture-ai-engineering/day1/03_FastAPI"
      ]
    },
    {
      "cell_type": "markdown",
      "metadata": {
        "id": "f45TDsNzELSQ"
      },
      "source": [
        "必要なライブラリをインストールします。"
      ]
    },
    {
      "cell_type": "code",
      "execution_count": 18,
      "metadata": {
        "id": "9uv6glCz5a7Z"
      },
      "outputs": [],
      "source": [
        "%%capture\n",
        "!pip install -r requirements.txt"
      ]
    },
    {
      "cell_type": "markdown",
      "metadata": {
        "id": "JfrmE2VmELSQ"
      },
      "source": [
        "ngrokとhuggigfaceのトークンを使用して、認証を行います。"
      ]
    },
    {
      "cell_type": "code",
      "execution_count": 19,
      "metadata": {
        "id": "ELzWhMFORRIO",
        "colab": {
          "base_uri": "https://localhost:8080/"
        },
        "outputId": "0df3a0ce-91e2-4d7f-9c4f-d708939cb8f1"
      },
      "outputs": [
        {
          "output_type": "stream",
          "name": "stdout",
          "text": [
            "Authtoken saved to configuration file: /root/.config/ngrok/ngrok.yml\n",
            "The token has not been saved to the git credentials helper. Pass `add_to_git_credential=True` in this function directly or `--add-to-git-credential` if using via `huggingface-cli` if you want to set the git credential as well.\n",
            "Token is valid (permission: fineGrained).\n",
            "The token `google_colab` has been saved to /root/.cache/huggingface/stored_tokens\n",
            "Your token has been saved to /root/.cache/huggingface/token\n",
            "Login successful.\n",
            "The current active token is: `google_colab`\n"
          ]
        }
      ],
      "source": [
        "!ngrok authtoken $$NGROK_TOKEN\n",
        "!huggingface-cli login --token $$HUGGINGFACE_TOKEN"
      ]
    },
    {
      "cell_type": "markdown",
      "metadata": {
        "id": "t-wztc2CELSQ"
      },
      "source": [
        "アプリを起動します。\n",
        "\n",
        "「02_streamlit_app」から続けて「03_FastAPI」を実行している場合は、モデルのダウンロードが済んでいるため、すぐにサービスが立ち上がります。\n",
        "\n",
        "「03_FastAPI」のみを実行している場合は、初回の起動時にモデルのダウンロードが始まるので、モデルのダウンロードが終わるまで数分間待ちましょう。"
      ]
    },
    {
      "cell_type": "code",
      "execution_count": 20,
      "metadata": {
        "id": "meQ4SwISn3IQ",
        "colab": {
          "base_uri": "https://localhost:8080/"
        },
        "outputId": "dc7d5b52-32be-45e9-b49c-02b0ae43a66f"
      },
      "outputs": [
        {
          "output_type": "stream",
          "name": "stdout",
          "text": [
            "2025-04-30 03:00:31.756287: E external/local_xla/xla/stream_executor/cuda/cuda_fft.cc:477] Unable to register cuFFT factory: Attempting to register factory for plugin cuFFT when one has already been registered\n",
            "WARNING: All log messages before absl::InitializeLog() is called are written to STDERR\n",
            "E0000 00:00:1745982031.788595    3505 cuda_dnn.cc:8310] Unable to register cuDNN factory: Attempting to register factory for plugin cuDNN when one has already been registered\n",
            "E0000 00:00:1745982031.798531    3505 cuda_blas.cc:1418] Unable to register cuBLAS factory: Attempting to register factory for plugin cuBLAS when one has already been registered\n",
            "2025-04-30 03:00:31.840266: I tensorflow/core/platform/cpu_feature_guard.cc:210] This TensorFlow binary is optimized to use available CPU instructions in performance-critical operations.\n",
            "To enable the following instructions: AVX2 AVX512F FMA, in other operations, rebuild TensorFlow with the appropriate compiler flags.\n",
            "モデル名を設定: google/gemma-3-4b-it\n",
            "/content/lecture-ai-engineering/day1/03_FastAPI/app.py:134: DeprecationWarning: \n",
            "        on_event is deprecated, use lifespan event handlers instead.\n",
            "\n",
            "        Read more about it in the\n",
            "        [FastAPI docs for Lifespan Events](https://fastapi.tiangolo.com/advanced/events/).\n",
            "        \n",
            "  @app.on_event(\"startup\")\n",
            "FastAPIエンドポイントを定義しました。\n",
            "アクティブなngrokトンネルはありません。\n",
            "ポート8501に新しいngrokトンネルを開いています...\n",
            "---------------------------------------------------------------------\n",
            "✅ 公開URL:   https://f56c-34-16-245-169.ngrok-free.app\n",
            "📖 APIドキュメント (Swagger UI): https://f56c-34-16-245-169.ngrok-free.app/docs\n",
            "---------------------------------------------------------------------\n",
            "(APIクライアントやブラウザからアクセスするためにこのURLをコピーしてください)\n",
            "\u001b[32mINFO\u001b[0m:     Started server process [\u001b[36m3505\u001b[0m]\n",
            "\u001b[32mINFO\u001b[0m:     Waiting for application startup.\n",
            "load_model_task: モデルの読み込みを開始...\n",
            "使用デバイス: cuda\n",
            "Loading checkpoint shards: 100% 2/2 [00:01<00:00,  1.56it/s]\n",
            "Device set to use cuda\n",
            "t=2025-04-30T03:00:50+0000 lvl=warn msg=\"failed to open private leg\" id=28ae34d88d29 privaddr=localhost:8501 err=\"dial tcp 127.0.0.1:8501: connect: connection refused\"\n",
            "t=2025-04-30T03:00:51+0000 lvl=warn msg=\"failed to open private leg\" id=cde1d1d78373 privaddr=localhost:8501 err=\"dial tcp 127.0.0.1:8501: connect: connection refused\"\n",
            "モデル 'google/gemma-3-4b-it' の読み込みに成功しました\n",
            "load_model_task: モデルの読み込みが完了しました。\n",
            "起動時にモデルの初期化が完了しました。\n",
            "\u001b[32mINFO\u001b[0m:     Application startup complete.\n",
            "\u001b[32mINFO\u001b[0m:     Uvicorn running on \u001b[1mhttp://0.0.0.0:8501\u001b[0m (Press CTRL+C to quit)\n",
            "\u001b[32mINFO\u001b[0m:     160.29.95.251:0 - \"\u001b[1mGET /docs HTTP/1.1\u001b[0m\" \u001b[32m200 OK\u001b[0m\n",
            "\u001b[32mINFO\u001b[0m:     160.29.95.251:0 - \"\u001b[1mGET /openapi.json HTTP/1.1\u001b[0m\" \u001b[32m200 OK\u001b[0m\n",
            "\u001b[32mINFO\u001b[0m:     Shutting down\n",
            "\u001b[32mINFO\u001b[0m:     Finished server process [\u001b[36m3505\u001b[0m]\n",
            "\n",
            "サーバープロセスが終了しました。\n",
            "Task exception was never retrieved\n",
            "future: <Task finished name='Task-1' coro=<Server.serve() done, defined at /usr/local/lib/python3.11/dist-packages/uvicorn/server.py:68> exception=KeyboardInterrupt()>\n",
            "Traceback (most recent call last):\n",
            "  File \"/usr/local/lib/python3.11/dist-packages/uvicorn/main.py\", line 580, in run\n",
            "    server.run()\n",
            "  File \"/usr/local/lib/python3.11/dist-packages/uvicorn/server.py\", line 66, in run\n",
            "    return asyncio.run(self.serve(sockets=sockets))\n",
            "           ^^^^^^^^^^^^^^^^^^^^^^^^^^^^^^^^^^^^^^^^\n",
            "  File \"/usr/local/lib/python3.11/dist-packages/nest_asyncio.py\", line 30, in run\n",
            "    return loop.run_until_complete(task)\n",
            "           ^^^^^^^^^^^^^^^^^^^^^^^^^^^^^\n",
            "  File \"/usr/local/lib/python3.11/dist-packages/nest_asyncio.py\", line 92, in run_until_complete\n",
            "    self._run_once()\n",
            "  File \"/usr/local/lib/python3.11/dist-packages/nest_asyncio.py\", line 133, in _run_once\n",
            "    handle._run()\n",
            "  File \"/usr/lib/python3.11/asyncio/events.py\", line 84, in _run\n",
            "    self._context.run(self._callback, *self._args)\n",
            "  File \"/usr/lib/python3.11/asyncio/tasks.py\", line 360, in __wakeup\n",
            "    self.__step()\n",
            "  File \"/usr/lib/python3.11/asyncio/tasks.py\", line 277, in __step\n",
            "    result = coro.send(None)\n",
            "             ^^^^^^^^^^^^^^^\n",
            "  File \"/usr/local/lib/python3.11/dist-packages/uvicorn/server.py\", line 69, in serve\n",
            "    with self.capture_signals():\n",
            "  File \"/usr/lib/python3.11/contextlib.py\", line 144, in __exit__\n",
            "    next(self.gen)\n",
            "  File \"/usr/local/lib/python3.11/dist-packages/uvicorn/server.py\", line 330, in capture_signals\n",
            "    signal.raise_signal(captured_signal)\n",
            "KeyboardInterrupt\n",
            "\u001b[31mERROR\u001b[0m:    Traceback (most recent call last):\n",
            "  File \"/usr/local/lib/python3.11/dist-packages/starlette/routing.py\", line 699, in lifespan\n",
            "    await receive()\n",
            "GeneratorExit\n",
            "\n",
            "Task was destroyed but it is pending!\n",
            "task: <Task pending name='Task-2' coro=<LifespanOn.main() done, defined at /usr/local/lib/python3.11/dist-packages/uvicorn/lifespan/on.py:78> wait_for=<Future cancelled>>\n"
          ]
        }
      ],
      "source": [
        "!python app.py"
      ]
    },
    {
      "cell_type": "markdown",
      "metadata": {
        "id": "RLubjIhbELSR"
      },
      "source": [
        "FastAPIが起動すると、APIとクライアントが通信するためのURL（エンドポイント）が作られます。\n",
        "\n",
        "URLが作られるのと合わせて、Swagger UIというWebインターフェースが作られます。\n",
        "\n",
        "Swagger UIにアクセスすることで、APIの仕様を確認できたり、APIをテストすることができます。\n",
        "\n",
        "Swagger UIを利用することで、APIを通してLLMを動かしてみましょう。"
      ]
    },
    {
      "cell_type": "markdown",
      "metadata": {
        "id": "XgumW3mGELSR"
      },
      "source": [
        "後片付けとして、使う必要のないngrokのトンネルを削除します。"
      ]
    },
    {
      "cell_type": "code",
      "execution_count": 7,
      "metadata": {
        "id": "RJymTZio-WPJ"
      },
      "outputs": [],
      "source": [
        "from pyngrok import ngrok\n",
        "ngrok.kill()"
      ]
    }
  ],
  "metadata": {
    "colab": {
      "provenance": [],
      "gpuType": "T4",
      "include_colab_link": true
    },
    "kernelspec": {
      "display_name": "Python 3",
      "name": "python3"
    },
    "language_info": {
      "name": "python"
    },
    "accelerator": "GPU"
  },
  "nbformat": 4,
  "nbformat_minor": 0
}